{
 "cells": [
  {
   "cell_type": "markdown",
   "metadata": {},
   "source": [
    "### 1.0 ETL ###"
   ]
  },
  {
   "cell_type": "markdown",
   "metadata": {},
   "source": [
    "- *Importacion de librerias*"
   ]
  },
  {
   "cell_type": "code",
   "execution_count": 65,
   "metadata": {},
   "outputs": [],
   "source": [
    "import pandas as pd\n",
    "import ast\n",
    "import numpy as np\n",
    "import seaborn as sns\n",
    "import matplotlib.pyplot as plt\n",
    "from sklearn.metrics.pairwise import cosine_similarity\n",
    "from sklearn.feature_extraction.text import TfidfVectorizer\n",
    "import json\n",
    "import warnings\n",
    "warnings.filterwarnings(\"ignore\")\n",
    "from fastapi import FastAPI\n",
    "from wordcloud import WordCloud"
   ]
  },
  {
   "cell_type": "markdown",
   "metadata": {},
   "source": [
    "1.1 *Carga de datasests*\n",
    "\n",
    "*Se cargaran solo las primeras 500 filas de los dataset para evitar la saturacion de la memoria*"
   ]
  },
  {
   "cell_type": "code",
   "execution_count": 2,
   "metadata": {},
   "outputs": [],
   "source": [
    "df_movies = pd.read_csv(r'C:\\Users\\Rocio\\Desktop\\Movies\\movies_dataset.csv', nrows=500)\n",
    "df_credits = pd.read_csv(r'C:\\Users\\Rocio\\Desktop\\Movies\\credits.csv', nrows=500)"
   ]
  },
  {
   "cell_type": "code",
   "execution_count": 3,
   "metadata": {},
   "outputs": [
    {
     "data": {
      "text/html": [
       "<div>\n",
       "<style scoped>\n",
       "    .dataframe tbody tr th:only-of-type {\n",
       "        vertical-align: middle;\n",
       "    }\n",
       "\n",
       "    .dataframe tbody tr th {\n",
       "        vertical-align: top;\n",
       "    }\n",
       "\n",
       "    .dataframe thead th {\n",
       "        text-align: right;\n",
       "    }\n",
       "</style>\n",
       "<table border=\"1\" class=\"dataframe\">\n",
       "  <thead>\n",
       "    <tr style=\"text-align: right;\">\n",
       "      <th></th>\n",
       "      <th>adult</th>\n",
       "      <th>belongs_to_collection</th>\n",
       "      <th>budget</th>\n",
       "      <th>genres</th>\n",
       "      <th>homepage</th>\n",
       "      <th>id</th>\n",
       "      <th>imdb_id</th>\n",
       "      <th>original_language</th>\n",
       "      <th>original_title</th>\n",
       "      <th>overview</th>\n",
       "      <th>...</th>\n",
       "      <th>release_date</th>\n",
       "      <th>revenue</th>\n",
       "      <th>runtime</th>\n",
       "      <th>spoken_languages</th>\n",
       "      <th>status</th>\n",
       "      <th>tagline</th>\n",
       "      <th>title</th>\n",
       "      <th>video</th>\n",
       "      <th>vote_average</th>\n",
       "      <th>vote_count</th>\n",
       "    </tr>\n",
       "  </thead>\n",
       "  <tbody>\n",
       "    <tr>\n",
       "      <th>0</th>\n",
       "      <td>False</td>\n",
       "      <td>{'id': 10194, 'name': 'Toy Story Collection', ...</td>\n",
       "      <td>30000000</td>\n",
       "      <td>[{'id': 16, 'name': 'Animation'}, {'id': 35, '...</td>\n",
       "      <td>http://toystory.disney.com/toy-story</td>\n",
       "      <td>862</td>\n",
       "      <td>tt0114709</td>\n",
       "      <td>en</td>\n",
       "      <td>Toy Story</td>\n",
       "      <td>Led by Woody, Andy's toys live happily in his ...</td>\n",
       "      <td>...</td>\n",
       "      <td>1995-10-30</td>\n",
       "      <td>373554033</td>\n",
       "      <td>81.0</td>\n",
       "      <td>[{'iso_639_1': 'en', 'name': 'English'}]</td>\n",
       "      <td>Released</td>\n",
       "      <td>NaN</td>\n",
       "      <td>Toy Story</td>\n",
       "      <td>False</td>\n",
       "      <td>7.7</td>\n",
       "      <td>5415</td>\n",
       "    </tr>\n",
       "    <tr>\n",
       "      <th>1</th>\n",
       "      <td>False</td>\n",
       "      <td>NaN</td>\n",
       "      <td>65000000</td>\n",
       "      <td>[{'id': 12, 'name': 'Adventure'}, {'id': 14, '...</td>\n",
       "      <td>NaN</td>\n",
       "      <td>8844</td>\n",
       "      <td>tt0113497</td>\n",
       "      <td>en</td>\n",
       "      <td>Jumanji</td>\n",
       "      <td>When siblings Judy and Peter discover an encha...</td>\n",
       "      <td>...</td>\n",
       "      <td>1995-12-15</td>\n",
       "      <td>262797249</td>\n",
       "      <td>104.0</td>\n",
       "      <td>[{'iso_639_1': 'en', 'name': 'English'}, {'iso...</td>\n",
       "      <td>Released</td>\n",
       "      <td>Roll the dice and unleash the excitement!</td>\n",
       "      <td>Jumanji</td>\n",
       "      <td>False</td>\n",
       "      <td>6.9</td>\n",
       "      <td>2413</td>\n",
       "    </tr>\n",
       "  </tbody>\n",
       "</table>\n",
       "<p>2 rows × 24 columns</p>\n",
       "</div>"
      ],
      "text/plain": [
       "   adult                              belongs_to_collection    budget  \\\n",
       "0  False  {'id': 10194, 'name': 'Toy Story Collection', ...  30000000   \n",
       "1  False                                                NaN  65000000   \n",
       "\n",
       "                                              genres  \\\n",
       "0  [{'id': 16, 'name': 'Animation'}, {'id': 35, '...   \n",
       "1  [{'id': 12, 'name': 'Adventure'}, {'id': 14, '...   \n",
       "\n",
       "                               homepage    id    imdb_id original_language  \\\n",
       "0  http://toystory.disney.com/toy-story   862  tt0114709                en   \n",
       "1                                   NaN  8844  tt0113497                en   \n",
       "\n",
       "  original_title                                           overview  ...  \\\n",
       "0      Toy Story  Led by Woody, Andy's toys live happily in his ...  ...   \n",
       "1        Jumanji  When siblings Judy and Peter discover an encha...  ...   \n",
       "\n",
       "   release_date    revenue runtime  \\\n",
       "0    1995-10-30  373554033    81.0   \n",
       "1    1995-12-15  262797249   104.0   \n",
       "\n",
       "                                    spoken_languages    status  \\\n",
       "0           [{'iso_639_1': 'en', 'name': 'English'}]  Released   \n",
       "1  [{'iso_639_1': 'en', 'name': 'English'}, {'iso...  Released   \n",
       "\n",
       "                                     tagline      title  video vote_average  \\\n",
       "0                                        NaN  Toy Story  False          7.7   \n",
       "1  Roll the dice and unleash the excitement!    Jumanji  False          6.9   \n",
       "\n",
       "  vote_count  \n",
       "0       5415  \n",
       "1       2413  \n",
       "\n",
       "[2 rows x 24 columns]"
      ]
     },
     "execution_count": 3,
     "metadata": {},
     "output_type": "execute_result"
    }
   ],
   "source": [
    "df_movies.head(2)"
   ]
  },
  {
   "cell_type": "code",
   "execution_count": 4,
   "metadata": {},
   "outputs": [
    {
     "data": {
      "text/html": [
       "<div>\n",
       "<style scoped>\n",
       "    .dataframe tbody tr th:only-of-type {\n",
       "        vertical-align: middle;\n",
       "    }\n",
       "\n",
       "    .dataframe tbody tr th {\n",
       "        vertical-align: top;\n",
       "    }\n",
       "\n",
       "    .dataframe thead th {\n",
       "        text-align: right;\n",
       "    }\n",
       "</style>\n",
       "<table border=\"1\" class=\"dataframe\">\n",
       "  <thead>\n",
       "    <tr style=\"text-align: right;\">\n",
       "      <th></th>\n",
       "      <th>cast</th>\n",
       "      <th>crew</th>\n",
       "      <th>id</th>\n",
       "    </tr>\n",
       "  </thead>\n",
       "  <tbody>\n",
       "    <tr>\n",
       "      <th>0</th>\n",
       "      <td>[{'cast_id': 14, 'character': 'Woody (voice)',...</td>\n",
       "      <td>[{'credit_id': '52fe4284c3a36847f8024f49', 'de...</td>\n",
       "      <td>862</td>\n",
       "    </tr>\n",
       "    <tr>\n",
       "      <th>1</th>\n",
       "      <td>[{'cast_id': 1, 'character': 'Alan Parrish', '...</td>\n",
       "      <td>[{'credit_id': '52fe44bfc3a36847f80a7cd1', 'de...</td>\n",
       "      <td>8844</td>\n",
       "    </tr>\n",
       "    <tr>\n",
       "      <th>2</th>\n",
       "      <td>[{'cast_id': 2, 'character': 'Max Goldman', 'c...</td>\n",
       "      <td>[{'credit_id': '52fe466a9251416c75077a89', 'de...</td>\n",
       "      <td>15602</td>\n",
       "    </tr>\n",
       "    <tr>\n",
       "      <th>3</th>\n",
       "      <td>[{'cast_id': 1, 'character': \"Savannah 'Vannah...</td>\n",
       "      <td>[{'credit_id': '52fe44779251416c91011acb', 'de...</td>\n",
       "      <td>31357</td>\n",
       "    </tr>\n",
       "    <tr>\n",
       "      <th>4</th>\n",
       "      <td>[{'cast_id': 1, 'character': 'George Banks', '...</td>\n",
       "      <td>[{'credit_id': '52fe44959251416c75039ed7', 'de...</td>\n",
       "      <td>11862</td>\n",
       "    </tr>\n",
       "    <tr>\n",
       "      <th>...</th>\n",
       "      <td>...</td>\n",
       "      <td>...</td>\n",
       "      <td>...</td>\n",
       "    </tr>\n",
       "    <tr>\n",
       "      <th>495</th>\n",
       "      <td>[{'cast_id': 20, 'character': 'Daniel Hillard ...</td>\n",
       "      <td>[{'credit_id': '52fe4276c3a36847f802094b', 'de...</td>\n",
       "      <td>788</td>\n",
       "    </tr>\n",
       "    <tr>\n",
       "      <th>496</th>\n",
       "      <td>[{'cast_id': 1, 'character': 'Johnny', 'credit...</td>\n",
       "      <td>[{'credit_id': '56dff56ec3a368748e0035ea', 'de...</td>\n",
       "      <td>21450</td>\n",
       "    </tr>\n",
       "    <tr>\n",
       "      <th>497</th>\n",
       "      <td>[{'cast_id': 1, 'character': 'Sgt. Kesuke Miya...</td>\n",
       "      <td>[{'credit_id': '52fe44169251416c75028661', 'de...</td>\n",
       "      <td>11231</td>\n",
       "    </tr>\n",
       "    <tr>\n",
       "      <th>498</th>\n",
       "      <td>[{'cast_id': 1, 'character': 'Peter Witner', '...</td>\n",
       "      <td>[{'credit_id': '52fe45d4c3a36847f80dccbd', 'de...</td>\n",
       "      <td>41588</td>\n",
       "    </tr>\n",
       "    <tr>\n",
       "      <th>499</th>\n",
       "      <td>[{'cast_id': 1, 'character': 'Capt. J.T. Robbi...</td>\n",
       "      <td>[{'credit_id': '52fe43739251416c75010d0d', 'de...</td>\n",
       "      <td>10447</td>\n",
       "    </tr>\n",
       "  </tbody>\n",
       "</table>\n",
       "<p>500 rows × 3 columns</p>\n",
       "</div>"
      ],
      "text/plain": [
       "                                                  cast  \\\n",
       "0    [{'cast_id': 14, 'character': 'Woody (voice)',...   \n",
       "1    [{'cast_id': 1, 'character': 'Alan Parrish', '...   \n",
       "2    [{'cast_id': 2, 'character': 'Max Goldman', 'c...   \n",
       "3    [{'cast_id': 1, 'character': \"Savannah 'Vannah...   \n",
       "4    [{'cast_id': 1, 'character': 'George Banks', '...   \n",
       "..                                                 ...   \n",
       "495  [{'cast_id': 20, 'character': 'Daniel Hillard ...   \n",
       "496  [{'cast_id': 1, 'character': 'Johnny', 'credit...   \n",
       "497  [{'cast_id': 1, 'character': 'Sgt. Kesuke Miya...   \n",
       "498  [{'cast_id': 1, 'character': 'Peter Witner', '...   \n",
       "499  [{'cast_id': 1, 'character': 'Capt. J.T. Robbi...   \n",
       "\n",
       "                                                  crew     id  \n",
       "0    [{'credit_id': '52fe4284c3a36847f8024f49', 'de...    862  \n",
       "1    [{'credit_id': '52fe44bfc3a36847f80a7cd1', 'de...   8844  \n",
       "2    [{'credit_id': '52fe466a9251416c75077a89', 'de...  15602  \n",
       "3    [{'credit_id': '52fe44779251416c91011acb', 'de...  31357  \n",
       "4    [{'credit_id': '52fe44959251416c75039ed7', 'de...  11862  \n",
       "..                                                 ...    ...  \n",
       "495  [{'credit_id': '52fe4276c3a36847f802094b', 'de...    788  \n",
       "496  [{'credit_id': '56dff56ec3a368748e0035ea', 'de...  21450  \n",
       "497  [{'credit_id': '52fe44169251416c75028661', 'de...  11231  \n",
       "498  [{'credit_id': '52fe45d4c3a36847f80dccbd', 'de...  41588  \n",
       "499  [{'credit_id': '52fe43739251416c75010d0d', 'de...  10447  \n",
       "\n",
       "[500 rows x 3 columns]"
      ]
     },
     "execution_count": 4,
     "metadata": {},
     "output_type": "execute_result"
    }
   ],
   "source": [
    "df_credits"
   ]
  },
  {
   "cell_type": "markdown",
   "metadata": {},
   "source": [
    "*2.0 TRANSFORMACION*"
   ]
  },
  {
   "cell_type": "markdown",
   "metadata": {},
   "source": [
    "- *Se eliminan duplicados si es que existen*"
   ]
  },
  {
   "cell_type": "code",
   "execution_count": 5,
   "metadata": {},
   "outputs": [],
   "source": [
    "df_movies= df_movies.drop_duplicates()"
   ]
  },
  {
   "cell_type": "markdown",
   "metadata": {},
   "source": [
    "- *Segun la concigna se proceden a eliminar las columnas que no serán utilizadas, video,imdb_id,adult,original_title,poster_path y homepage.*"
   ]
  },
  {
   "cell_type": "code",
   "execution_count": 6,
   "metadata": {},
   "outputs": [],
   "source": [
    "df_movies = df_movies.drop(['video', 'imdb_id', 'adult', 'original_title', 'poster_path', 'homepage'], axis=1)\n"
   ]
  },
  {
   "cell_type": "markdown",
   "metadata": {},
   "source": [
    "- *Se corrobora la informacion del df*"
   ]
  },
  {
   "cell_type": "code",
   "execution_count": 7,
   "metadata": {},
   "outputs": [
    {
     "name": "stdout",
     "output_type": "stream",
     "text": [
      "<class 'pandas.core.frame.DataFrame'>\n",
      "RangeIndex: 500 entries, 0 to 499\n",
      "Data columns (total 18 columns):\n",
      " #   Column                 Non-Null Count  Dtype  \n",
      "---  ------                 --------------  -----  \n",
      " 0   belongs_to_collection  74 non-null     object \n",
      " 1   budget                 500 non-null    int64  \n",
      " 2   genres                 500 non-null    object \n",
      " 3   id                     500 non-null    int64  \n",
      " 4   original_language      500 non-null    object \n",
      " 5   overview               498 non-null    object \n",
      " 6   popularity             500 non-null    float64\n",
      " 7   production_companies   500 non-null    object \n",
      " 8   production_countries   500 non-null    object \n",
      " 9   release_date           500 non-null    object \n",
      " 10  revenue                500 non-null    int64  \n",
      " 11  runtime                500 non-null    float64\n",
      " 12  spoken_languages       500 non-null    object \n",
      " 13  status                 499 non-null    object \n",
      " 14  tagline                389 non-null    object \n",
      " 15  title                  500 non-null    object \n",
      " 16  vote_average           500 non-null    float64\n",
      " 17  vote_count             500 non-null    int64  \n",
      "dtypes: float64(3), int64(4), object(11)\n",
      "memory usage: 70.4+ KB\n"
     ]
    }
   ],
   "source": [
    "df_movies.info()"
   ]
  },
  {
   "cell_type": "markdown",
   "metadata": {},
   "source": [
    "- *\"Luego de corroborar la informacion del df se distingue que:*\n",
    " \n",
    "- *la columna belongs_to_colection tiene una gran cantidad de nulls al igual que tagline, por lo tanto se procede a eliminar dichas columnas.*\n",
    " \n",
    "- *la columna overview solo tiene dos nulls y la columna status solo uno , al ser de tipo object tambien se eliminaran esas tres filas ya que cosidera que no sera una perdida significativa para el dataset\"*"
   ]
  },
  {
   "cell_type": "code",
   "execution_count": 8,
   "metadata": {},
   "outputs": [],
   "source": [
    "df_movies = df_movies.drop(columns=['tagline', 'belongs_to_collection'])\n"
   ]
  },
  {
   "cell_type": "code",
   "execution_count": 9,
   "metadata": {},
   "outputs": [],
   "source": [
    "df_movies.dropna(subset=['status', 'overview'],inplace= True)"
   ]
  },
  {
   "cell_type": "code",
   "execution_count": 10,
   "metadata": {},
   "outputs": [
    {
     "name": "stdout",
     "output_type": "stream",
     "text": [
      "budget                  0\n",
      "genres                  0\n",
      "id                      0\n",
      "original_language       0\n",
      "overview                0\n",
      "popularity              0\n",
      "production_companies    0\n",
      "production_countries    0\n",
      "release_date            0\n",
      "revenue                 0\n",
      "runtime                 0\n",
      "spoken_languages        0\n",
      "status                  0\n",
      "title                   0\n",
      "vote_average            0\n",
      "vote_count              0\n",
      "dtype: int64\n"
     ]
    }
   ],
   "source": [
    "print(df_movies.isnull().sum())\n"
   ]
  },
  {
   "cell_type": "markdown",
   "metadata": {},
   "source": [
    "- *Se cambia el formato de la columna release_date de object a datetime AAAA-mm-dd*"
   ]
  },
  {
   "cell_type": "code",
   "execution_count": 11,
   "metadata": {},
   "outputs": [],
   "source": [
    "df_movies['release_date'] = pd.to_datetime(df_movies['release_date'],format='%Y-%m-%d', errors='coerce')"
   ]
  },
  {
   "cell_type": "markdown",
   "metadata": {},
   "source": [
    "- *Se crea la columna release_year donde se extraerán el año de la fecha de estreno.*"
   ]
  },
  {
   "cell_type": "code",
   "execution_count": 12,
   "metadata": {},
   "outputs": [],
   "source": [
    "df_movies['release_year'] = df_movies['release_date'].dt.year"
   ]
  },
  {
   "cell_type": "markdown",
   "metadata": {},
   "source": [
    "-*Los valores nulos de los campos revenue, budget son rellenados por el número 0.*"
   ]
  },
  {
   "cell_type": "code",
   "execution_count": 13,
   "metadata": {},
   "outputs": [],
   "source": [
    "df_movies.fillna({'revenue': 0, 'budget': 0}, inplace=True)"
   ]
  },
  {
   "cell_type": "code",
   "execution_count": 14,
   "metadata": {},
   "outputs": [
    {
     "data": {
      "text/plain": [
       "0      30000000\n",
       "1      65000000\n",
       "2             0\n",
       "3      16000000\n",
       "4             0\n",
       "         ...   \n",
       "495    25000000\n",
       "496           0\n",
       "497    12000000\n",
       "498           0\n",
       "499    20000000\n",
       "Name: budget, Length: 497, dtype: int64"
      ]
     },
     "execution_count": 14,
     "metadata": {},
     "output_type": "execute_result"
    }
   ],
   "source": [
    "df_movies['budget']"
   ]
  },
  {
   "cell_type": "markdown",
   "metadata": {},
   "source": [
    "- *Se cambia el tipo de dato de la columna budget de object a int*"
   ]
  },
  {
   "cell_type": "code",
   "execution_count": 15,
   "metadata": {},
   "outputs": [],
   "source": [
    "df_movies['budget'] = df_movies['budget'].astype(int)"
   ]
  },
  {
   "cell_type": "markdown",
   "metadata": {},
   "source": [
    "- *Se crea la columna return con el retorno de inversión, a partir de los campos revenue y budget, dividiendo estas dos últimas revenue / budget.*\n",
    "\n"
   ]
  },
  {
   "cell_type": "code",
   "execution_count": 16,
   "metadata": {},
   "outputs": [],
   "source": [
    "df_movies['return']= df_movies['revenue']/ df_movies['budget']"
   ]
  },
  {
   "cell_type": "markdown",
   "metadata": {},
   "source": [
    "- *Se corroboran los null de la columna return*"
   ]
  },
  {
   "cell_type": "code",
   "execution_count": 17,
   "metadata": {},
   "outputs": [
    {
     "name": "stdout",
     "output_type": "stream",
     "text": [
      "207\n"
     ]
    }
   ],
   "source": [
    "print(df_movies['return'].isnull().sum())"
   ]
  },
  {
   "cell_type": "markdown",
   "metadata": {},
   "source": [
    "- *Se remplazan los valores nulos por \"0\".*"
   ]
  },
  {
   "cell_type": "code",
   "execution_count": 18,
   "metadata": {},
   "outputs": [],
   "source": [
    "df_movies.fillna({'return' : 0 }, inplace=True)"
   ]
  },
  {
   "cell_type": "code",
   "execution_count": 19,
   "metadata": {},
   "outputs": [
    {
     "data": {
      "text/plain": [
       "0    12.451801\n",
       "1     4.043035\n",
       "2     0.000000\n",
       "3     5.090760\n",
       "4          inf\n",
       "Name: return, dtype: float64"
      ]
     },
     "execution_count": 19,
     "metadata": {},
     "output_type": "execute_result"
    }
   ],
   "source": [
    "df_movies['return'].head()"
   ]
  },
  {
   "cell_type": "markdown",
   "metadata": {},
   "source": [
    "- *\"La fila 4 de la columna return contiene inf, a pesar de que su tipo de dato es float. Se elimina.* "
   ]
  },
  {
   "cell_type": "code",
   "execution_count": 20,
   "metadata": {},
   "outputs": [],
   "source": [
    "df_movies.drop(index=4, inplace=True)"
   ]
  },
  {
   "cell_type": "markdown",
   "metadata": {},
   "source": [
    "- *Se busca desanidar genres con la vision de utilizar estos datos mas adelante en el sistema de recomendacion*\n",
    "\n",
    "\n",
    "- *Se crea la funcion \"desanidar_generos\" para desanidar la columna genres con los argumentos df, correspondiente al dataframe, y columna, refiriendose a la columna que se ira a desanidar\".*\n"
   ]
  },
  {
   "cell_type": "code",
   "execution_count": 21,
   "metadata": {},
   "outputs": [],
   "source": [
    "\n",
    "def desanidar_generos(df, columna):\n",
    "    \"\"\"\n",
    "    Recibe como parametros el df y la columna a desanidar\n",
    "    itera sobre esta intentando convertir los valores a formato json \n",
    "    reemplazando ' por \" almacena el índice original y los valores de cada género \n",
    "    manejando correctamente los errores. Finalmente crea un df con las desanidadas\n",
    "    y convierte el valor de la columna en una lista de diccionarios\n",
    "    \"\"\"\n",
    "    \n",
    "    filas_generos = []\n",
    "    indices = []\n",
    "    \n",
    "    for i, valor in df[columna].items():  \n",
    "        \n",
    "        try:\n",
    "            generos = json.loads(valor.replace(\"'\", \"\\\"\"))\n",
    "            for genero in generos:\n",
    "                # Almacena el índice original y los valores de cada género\n",
    "                indices.append(i)\n",
    "                filas_generos.append(genero)\n",
    "        except (TypeError, json.JSONDecodeError):\n",
    "            # Sino puede convertirlo, continúa\n",
    "            continue\n",
    "\n",
    "    # Crea un DataFrame con las filas desanidadas\n",
    "    df_generos = pd.DataFrame(filas_generos)\n",
    "    df_generos['indice_original'] = indices  # Agrega los índices originales\n",
    "    return df_generos\n",
    "\n"
   ]
  },
  {
   "cell_type": "markdown",
   "metadata": {},
   "source": [
    "- *Se aplica la funcion*"
   ]
  },
  {
   "cell_type": "code",
   "execution_count": 22,
   "metadata": {},
   "outputs": [
    {
     "name": "stdout",
     "output_type": "stream",
     "text": [
      "         id             name  indice_original\n",
      "0        16        Animation                0\n",
      "1        35           Comedy                0\n",
      "2     10751           Family                0\n",
      "3        12        Adventure                1\n",
      "4        14          Fantasy                1\n",
      "...     ...              ...              ...\n",
      "1205     18            Drama              498\n",
      "1206     28           Action              499\n",
      "1207     18            Drama              499\n",
      "1208    878  Science Fiction              499\n",
      "1209     53         Thriller              499\n",
      "\n",
      "[1210 rows x 3 columns]\n"
     ]
    }
   ],
   "source": [
    "generos_desanidados = desanidar_generos(df_movies, 'genres')\n",
    "\n",
    "print(generos_desanidados)"
   ]
  },
  {
   "cell_type": "markdown",
   "metadata": {},
   "source": [
    "- *Se agrupa el df generos_desanidados en una lista por id y name*"
   ]
  },
  {
   "cell_type": "code",
   "execution_count": 23,
   "metadata": {},
   "outputs": [
    {
     "name": "stdout",
     "output_type": "stream",
     "text": [
      "       id                                               name\n",
      "0      12  [Adventure, Adventure, Adventure, Adventure, A...\n",
      "1      14  [Fantasy, Fantasy, Fantasy, Fantasy, Fantasy, ...\n",
      "2      16  [Animation, Animation, Animation, Animation, A...\n",
      "3      18  [Drama, Drama, Drama, Drama, Drama, Drama, Dra...\n",
      "4      27  [Horror, Horror, Horror, Horror, Horror, Horro...\n",
      "5      28  [Action, Action, Action, Action, Action, Actio...\n",
      "6      35  [Comedy, Comedy, Comedy, Comedy, Comedy, Comed...\n",
      "7      36  [History, History, History, History, History, ...\n",
      "8      37  [Western, Western, Western, Western, Western, ...\n",
      "9      53  [Thriller, Thriller, Thriller, Thriller, Thril...\n",
      "10     80  [Crime, Crime, Crime, Crime, Crime, Crime, Cri...\n",
      "11     99  [Documentary, Documentary, Documentary, Docume...\n",
      "12    878  [Science Fiction, Science Fiction, Science Fic...\n",
      "13   9648  [Mystery, Mystery, Mystery, Mystery, Mystery, ...\n",
      "14  10402  [Music, Music, Music, Music, Music, Music, Mus...\n",
      "15  10749  [Romance, Romance, Romance, Romance, Romance, ...\n",
      "16  10751  [Family, Family, Family, Family, Family, Famil...\n",
      "17  10752      [War, War, War, War, War, War, War, War, War]\n",
      "18  10769      [Foreign, Foreign, Foreign, Foreign, Foreign]\n",
      "19  10770                                         [TV Movie]\n"
     ]
    }
   ],
   "source": [
    "generos_desanidados = generos_desanidados.groupby('id')['name'].apply(list).reset_index()\n",
    "\n",
    "print(generos_desanidados)"
   ]
  },
  {
   "cell_type": "markdown",
   "metadata": {},
   "source": [
    "- *Se eliminan los duplicados y se expande el df con una fila para cada nombre de la lista de generos, para luego utilizar One-Hot-Encoding.*"
   ]
  },
  {
   "cell_type": "code",
   "execution_count": 24,
   "metadata": {},
   "outputs": [
    {
     "name": "stdout",
     "output_type": "stream",
     "text": [
      "       name_Action  name_Adventure  name_Animation  name_Comedy  name_Crime  \\\n",
      "id                                                                            \n",
      "12               0               1               0            0           0   \n",
      "14               0               0               0            0           0   \n",
      "16               0               0               1            0           0   \n",
      "18               0               0               0            0           0   \n",
      "27               0               0               0            0           0   \n",
      "28               1               0               0            0           0   \n",
      "35               0               0               0            1           0   \n",
      "36               0               0               0            0           0   \n",
      "37               0               0               0            0           0   \n",
      "53               0               0               0            0           0   \n",
      "80               0               0               0            0           1   \n",
      "99               0               0               0            0           0   \n",
      "878              0               0               0            0           0   \n",
      "9648             0               0               0            0           0   \n",
      "10402            0               0               0            0           0   \n",
      "10749            0               0               0            0           0   \n",
      "10751            0               0               0            0           0   \n",
      "10752            0               0               0            0           0   \n",
      "10769            0               0               0            0           0   \n",
      "10770            0               0               0            0           0   \n",
      "\n",
      "       name_Documentary  name_Drama  name_Family  name_Fantasy  name_Foreign  \\\n",
      "id                                                                             \n",
      "12                    0           0            0             0             0   \n",
      "14                    0           0            0             1             0   \n",
      "16                    0           0            0             0             0   \n",
      "18                    0           1            0             0             0   \n",
      "27                    0           0            0             0             0   \n",
      "28                    0           0            0             0             0   \n",
      "35                    0           0            0             0             0   \n",
      "36                    0           0            0             0             0   \n",
      "37                    0           0            0             0             0   \n",
      "53                    0           0            0             0             0   \n",
      "80                    0           0            0             0             0   \n",
      "99                    1           0            0             0             0   \n",
      "878                   0           0            0             0             0   \n",
      "9648                  0           0            0             0             0   \n",
      "10402                 0           0            0             0             0   \n",
      "10749                 0           0            0             0             0   \n",
      "10751                 0           0            1             0             0   \n",
      "10752                 0           0            0             0             0   \n",
      "10769                 0           0            0             0             1   \n",
      "10770                 0           0            0             0             0   \n",
      "\n",
      "       name_History  name_Horror  name_Music  name_Mystery  name_Romance  \\\n",
      "id                                                                         \n",
      "12                0            0           0             0             0   \n",
      "14                0            0           0             0             0   \n",
      "16                0            0           0             0             0   \n",
      "18                0            0           0             0             0   \n",
      "27                0            1           0             0             0   \n",
      "28                0            0           0             0             0   \n",
      "35                0            0           0             0             0   \n",
      "36                1            0           0             0             0   \n",
      "37                0            0           0             0             0   \n",
      "53                0            0           0             0             0   \n",
      "80                0            0           0             0             0   \n",
      "99                0            0           0             0             0   \n",
      "878               0            0           0             0             0   \n",
      "9648              0            0           0             1             0   \n",
      "10402             0            0           1             0             0   \n",
      "10749             0            0           0             0             1   \n",
      "10751             0            0           0             0             0   \n",
      "10752             0            0           0             0             0   \n",
      "10769             0            0           0             0             0   \n",
      "10770             0            0           0             0             0   \n",
      "\n",
      "       name_Science Fiction  name_TV Movie  name_Thriller  name_War  \\\n",
      "id                                                                    \n",
      "12                        0              0              0         0   \n",
      "14                        0              0              0         0   \n",
      "16                        0              0              0         0   \n",
      "18                        0              0              0         0   \n",
      "27                        0              0              0         0   \n",
      "28                        0              0              0         0   \n",
      "35                        0              0              0         0   \n",
      "36                        0              0              0         0   \n",
      "37                        0              0              0         0   \n",
      "53                        0              0              1         0   \n",
      "80                        0              0              0         0   \n",
      "99                        0              0              0         0   \n",
      "878                       1              0              0         0   \n",
      "9648                      0              0              0         0   \n",
      "10402                     0              0              0         0   \n",
      "10749                     0              0              0         0   \n",
      "10751                     0              0              0         0   \n",
      "10752                     0              0              0         1   \n",
      "10769                     0              0              0         0   \n",
      "10770                     0              1              0         0   \n",
      "\n",
      "       name_Western  \n",
      "id                   \n",
      "12                0  \n",
      "14                0  \n",
      "16                0  \n",
      "18                0  \n",
      "27                0  \n",
      "28                0  \n",
      "35                0  \n",
      "36                0  \n",
      "37                1  \n",
      "53                0  \n",
      "80                0  \n",
      "99                0  \n",
      "878               0  \n",
      "9648              0  \n",
      "10402             0  \n",
      "10749             0  \n",
      "10751             0  \n",
      "10752             0  \n",
      "10769             0  \n",
      "10770             0  \n"
     ]
    }
   ],
   "source": [
    "generos_desanidados['name'] = generos_desanidados['name'].apply(lambda x: list(set(x)))\n",
    "df_xpld_gen= generos_desanidados.explode('name')\n",
    "\n",
    "#One-Hot Encoding\n",
    "df_ohe = pd.get_dummies(df_xpld_gen, columns=['name'])\n",
    "\n",
    "#Se agrupa por id y se suma los valores para reconstruir la información de cada película\n",
    "df_ohe_group = df_ohe.groupby('id').sum()\n",
    "print(df_ohe_group)\n"
   ]
  },
  {
   "cell_type": "markdown",
   "metadata": {},
   "source": [
    "3.0 EDA *(seleccion de datos)*"
   ]
  },
  {
   "cell_type": "markdown",
   "metadata": {},
   "source": [
    "*Se cambia el tipo de dato de las columnas id y popularity*"
   ]
  },
  {
   "cell_type": "code",
   "execution_count": 25,
   "metadata": {},
   "outputs": [],
   "source": [
    "df_movies['id'] = df_movies['id'].astype(int)\n",
    "df_movies['popularity'] = df_movies['popularity'].astype(float)\n"
   ]
  },
  {
   "cell_type": "markdown",
   "metadata": {},
   "source": [
    "### Credits ###"
   ]
  },
  {
   "cell_type": "code",
   "execution_count": 26,
   "metadata": {},
   "outputs": [
    {
     "data": {
      "text/html": [
       "<div>\n",
       "<style scoped>\n",
       "    .dataframe tbody tr th:only-of-type {\n",
       "        vertical-align: middle;\n",
       "    }\n",
       "\n",
       "    .dataframe tbody tr th {\n",
       "        vertical-align: top;\n",
       "    }\n",
       "\n",
       "    .dataframe thead th {\n",
       "        text-align: right;\n",
       "    }\n",
       "</style>\n",
       "<table border=\"1\" class=\"dataframe\">\n",
       "  <thead>\n",
       "    <tr style=\"text-align: right;\">\n",
       "      <th></th>\n",
       "      <th>cast</th>\n",
       "      <th>crew</th>\n",
       "      <th>id</th>\n",
       "    </tr>\n",
       "  </thead>\n",
       "  <tbody>\n",
       "    <tr>\n",
       "      <th>0</th>\n",
       "      <td>[{'cast_id': 14, 'character': 'Woody (voice)',...</td>\n",
       "      <td>[{'credit_id': '52fe4284c3a36847f8024f49', 'de...</td>\n",
       "      <td>862</td>\n",
       "    </tr>\n",
       "    <tr>\n",
       "      <th>1</th>\n",
       "      <td>[{'cast_id': 1, 'character': 'Alan Parrish', '...</td>\n",
       "      <td>[{'credit_id': '52fe44bfc3a36847f80a7cd1', 'de...</td>\n",
       "      <td>8844</td>\n",
       "    </tr>\n",
       "    <tr>\n",
       "      <th>2</th>\n",
       "      <td>[{'cast_id': 2, 'character': 'Max Goldman', 'c...</td>\n",
       "      <td>[{'credit_id': '52fe466a9251416c75077a89', 'de...</td>\n",
       "      <td>15602</td>\n",
       "    </tr>\n",
       "    <tr>\n",
       "      <th>3</th>\n",
       "      <td>[{'cast_id': 1, 'character': \"Savannah 'Vannah...</td>\n",
       "      <td>[{'credit_id': '52fe44779251416c91011acb', 'de...</td>\n",
       "      <td>31357</td>\n",
       "    </tr>\n",
       "    <tr>\n",
       "      <th>4</th>\n",
       "      <td>[{'cast_id': 1, 'character': 'George Banks', '...</td>\n",
       "      <td>[{'credit_id': '52fe44959251416c75039ed7', 'de...</td>\n",
       "      <td>11862</td>\n",
       "    </tr>\n",
       "    <tr>\n",
       "      <th>...</th>\n",
       "      <td>...</td>\n",
       "      <td>...</td>\n",
       "      <td>...</td>\n",
       "    </tr>\n",
       "    <tr>\n",
       "      <th>495</th>\n",
       "      <td>[{'cast_id': 20, 'character': 'Daniel Hillard ...</td>\n",
       "      <td>[{'credit_id': '52fe4276c3a36847f802094b', 'de...</td>\n",
       "      <td>788</td>\n",
       "    </tr>\n",
       "    <tr>\n",
       "      <th>496</th>\n",
       "      <td>[{'cast_id': 1, 'character': 'Johnny', 'credit...</td>\n",
       "      <td>[{'credit_id': '56dff56ec3a368748e0035ea', 'de...</td>\n",
       "      <td>21450</td>\n",
       "    </tr>\n",
       "    <tr>\n",
       "      <th>497</th>\n",
       "      <td>[{'cast_id': 1, 'character': 'Sgt. Kesuke Miya...</td>\n",
       "      <td>[{'credit_id': '52fe44169251416c75028661', 'de...</td>\n",
       "      <td>11231</td>\n",
       "    </tr>\n",
       "    <tr>\n",
       "      <th>498</th>\n",
       "      <td>[{'cast_id': 1, 'character': 'Peter Witner', '...</td>\n",
       "      <td>[{'credit_id': '52fe45d4c3a36847f80dccbd', 'de...</td>\n",
       "      <td>41588</td>\n",
       "    </tr>\n",
       "    <tr>\n",
       "      <th>499</th>\n",
       "      <td>[{'cast_id': 1, 'character': 'Capt. J.T. Robbi...</td>\n",
       "      <td>[{'credit_id': '52fe43739251416c75010d0d', 'de...</td>\n",
       "      <td>10447</td>\n",
       "    </tr>\n",
       "  </tbody>\n",
       "</table>\n",
       "<p>500 rows × 3 columns</p>\n",
       "</div>"
      ],
      "text/plain": [
       "                                                  cast  \\\n",
       "0    [{'cast_id': 14, 'character': 'Woody (voice)',...   \n",
       "1    [{'cast_id': 1, 'character': 'Alan Parrish', '...   \n",
       "2    [{'cast_id': 2, 'character': 'Max Goldman', 'c...   \n",
       "3    [{'cast_id': 1, 'character': \"Savannah 'Vannah...   \n",
       "4    [{'cast_id': 1, 'character': 'George Banks', '...   \n",
       "..                                                 ...   \n",
       "495  [{'cast_id': 20, 'character': 'Daniel Hillard ...   \n",
       "496  [{'cast_id': 1, 'character': 'Johnny', 'credit...   \n",
       "497  [{'cast_id': 1, 'character': 'Sgt. Kesuke Miya...   \n",
       "498  [{'cast_id': 1, 'character': 'Peter Witner', '...   \n",
       "499  [{'cast_id': 1, 'character': 'Capt. J.T. Robbi...   \n",
       "\n",
       "                                                  crew     id  \n",
       "0    [{'credit_id': '52fe4284c3a36847f8024f49', 'de...    862  \n",
       "1    [{'credit_id': '52fe44bfc3a36847f80a7cd1', 'de...   8844  \n",
       "2    [{'credit_id': '52fe466a9251416c75077a89', 'de...  15602  \n",
       "3    [{'credit_id': '52fe44779251416c91011acb', 'de...  31357  \n",
       "4    [{'credit_id': '52fe44959251416c75039ed7', 'de...  11862  \n",
       "..                                                 ...    ...  \n",
       "495  [{'credit_id': '52fe4276c3a36847f802094b', 'de...    788  \n",
       "496  [{'credit_id': '56dff56ec3a368748e0035ea', 'de...  21450  \n",
       "497  [{'credit_id': '52fe44169251416c75028661', 'de...  11231  \n",
       "498  [{'credit_id': '52fe45d4c3a36847f80dccbd', 'de...  41588  \n",
       "499  [{'credit_id': '52fe43739251416c75010d0d', 'de...  10447  \n",
       "\n",
       "[500 rows x 3 columns]"
      ]
     },
     "execution_count": 26,
     "metadata": {},
     "output_type": "execute_result"
    }
   ],
   "source": [
    "df_credits"
   ]
  },
  {
   "cell_type": "markdown",
   "metadata": {},
   "source": [
    "- *Se observa la primera fila de la columna cast'*"
   ]
  },
  {
   "cell_type": "code",
   "execution_count": 27,
   "metadata": {},
   "outputs": [
    {
     "data": {
      "text/plain": [
       "\"[{'cast_id': 14, 'character': 'Woody (voice)', 'credit_id': '52fe4284c3a36847f8024f95', 'gender': 2, 'id': 31, 'name': 'Tom Hanks', 'order': 0, 'profile_path': '/pQFoyx7rp09CJTAb932F2g8Nlho.jpg'}, {'cast_id': 15, 'character': 'Buzz Lightyear (voice)', 'credit_id': '52fe4284c3a36847f8024f99', 'gender': 2, 'id': 12898, 'name': 'Tim Allen', 'order': 1, 'profile_path': '/uX2xVf6pMmPepxnvFWyBtjexzgY.jpg'}, {'cast_id': 16, 'character': 'Mr. Potato Head (voice)', 'credit_id': '52fe4284c3a36847f8024f9d', 'gender': 2, 'id': 7167, 'name': 'Don Rickles', 'order': 2, 'profile_path': '/h5BcaDMPRVLHLDzbQavec4xfSdt.jpg'}, {'cast_id': 17, 'character': 'Slinky Dog (voice)', 'credit_id': '52fe4284c3a36847f8024fa1', 'gender': 2, 'id': 12899, 'name': 'Jim Varney', 'order': 3, 'profile_path': '/eIo2jVVXYgjDtaHoF19Ll9vtW7h.jpg'}, {'cast_id': 18, 'character': 'Rex (voice)', 'credit_id': '52fe4284c3a36847f8024fa5', 'gender': 2, 'id': 12900, 'name': 'Wallace Shawn', 'order': 4, 'profile_path': '/oGE6JqPP2xH4tNORKNqxbNPYi7u.jpg'}, {'cast_id': 19, 'character': 'Hamm (voice)', 'credit_id': '52fe4284c3a36847f8024fa9', 'gender': 2, 'id': 7907, 'name': 'John Ratzenberger', 'order': 5, 'profile_path': '/yGechiKWL6TJDfVE2KPSJYqdMsY.jpg'}, {'cast_id': 20, 'character': 'Bo Peep (voice)', 'credit_id': '52fe4284c3a36847f8024fad', 'gender': 1, 'id': 8873, 'name': 'Annie Potts', 'order': 6, 'profile_path': '/eryXT84RL41jHSJcMy4kS3u9y6w.jpg'}, {'cast_id': 26, 'character': 'Andy (voice)', 'credit_id': '52fe4284c3a36847f8024fc1', 'gender': 0, 'id': 1116442, 'name': 'John Morris', 'order': 7, 'profile_path': '/vYGyvK4LzeaUCoNSHtsuqJUY15M.jpg'}, {'cast_id': 22, 'character': 'Sid (voice)', 'credit_id': '52fe4284c3a36847f8024fb1', 'gender': 2, 'id': 12901, 'name': 'Erik von Detten', 'order': 8, 'profile_path': '/twnF1ZaJ1FUNUuo6xLXwcxjayBE.jpg'}, {'cast_id': 23, 'character': 'Mrs. Davis (voice)', 'credit_id': '52fe4284c3a36847f8024fb5', 'gender': 1, 'id': 12133, 'name': 'Laurie Metcalf', 'order': 9, 'profile_path': '/unMMIT60eoBM2sN2nyR7EZ2BvvD.jpg'}, {'cast_id': 24, 'character': 'Sergeant (voice)', 'credit_id': '52fe4284c3a36847f8024fb9', 'gender': 2, 'id': 8655, 'name': 'R. Lee Ermey', 'order': 10, 'profile_path': '/r8GBqFBjypLUP9VVqDqfZ7wYbSs.jpg'}, {'cast_id': 25, 'character': 'Hannah (voice)', 'credit_id': '52fe4284c3a36847f8024fbd', 'gender': 1, 'id': 12903, 'name': 'Sarah Freeman', 'order': 11, 'profile_path': None}, {'cast_id': 27, 'character': 'TV Announcer (voice)', 'credit_id': '52fe4284c3a36847f8024fc5', 'gender': 2, 'id': 37221, 'name': 'Penn Jillette', 'order': 12, 'profile_path': '/zmAaXUdx12NRsssgHbk1T31j2x9.jpg'}]\""
      ]
     },
     "execution_count": 27,
     "metadata": {},
     "output_type": "execute_result"
    }
   ],
   "source": [
    "df_credits['cast'].iloc[0]"
   ]
  },
  {
   "cell_type": "markdown",
   "metadata": {},
   "source": [
    "- *Se crea la funcion desanidar_col que en primera instancia intenta convertir la columna a formato json utilizando el metodo json .loads reemplazando ' por \". si el valor no es valido o no es una lista o diccionario devuelve una lista vacia.*\n",
    "- *A continuacion se aplica la funcion eval_format*\n",
    "- *Luego se  expanden las filas con el metodo explode y se resetean los indices*\n",
    "- *Si los valores son validos, desanida las claves del diccionario*\n",
    "- *Combina las columnas desanidadas con el resto del df*\n",
    "- *Para finalizar retorna un nuevo df con los datos originales desanidados.*"
   ]
  },
  {
   "cell_type": "code",
   "execution_count": 28,
   "metadata": {},
   "outputs": [],
   "source": [
    "def desanidar_col(df, col_name, prefix_col):\n",
    "    \"\"\"\n",
    "         - df: DataFrame donde está la columna a desanidar.\n",
    "        - col_name: Nombre de la columna.\n",
    "        - prefix_col: Prefijo que tendrán las columnas generadas al desanidar col_name.para evitar la confusion con el id del df\n",
    "    \"\"\"\n",
    "    def eval_format(x):\n",
    "        try:\n",
    "            if isinstance(x, str):\n",
    "                return json.loads(x.replace(\"'\", '\"'))\n",
    "        except (json.JSONDecodeError, ValueError):\n",
    "            try:\n",
    "                return ast.literal_eval(x)\n",
    "            except (ValueError, SyntaxError):\n",
    "                return []\n",
    "        return []\n",
    "\n",
    "    # Convierte strings mal formateados a listas/diccionarios\n",
    "    df[col_name] = df[col_name].apply(eval_format)\n",
    "\n",
    "    # Expande filas con listas de diccionarios\n",
    "    desanidar_data = df.explode(col_name).reset_index(drop=True)\n",
    "\n",
    "    # Si los valores son válidos, desanida las claves del diccionario\n",
    "    if desanidar_data[col_name].notnull().any():\n",
    "        # Normaliza los diccionarios en columnas\n",
    "        desanidar_keys = pd.json_normalize(desanidar_data[col_name])\n",
    "        desanidar_keys.columns = [f\"{prefix_col}_{col}\" for col in desanidar_keys.columns]\n",
    "        \n",
    "        # Combina las columnas desanidadas con el resto del DataFrame\n",
    "        desanidar_data = pd.concat([desanidar_data.drop(columns=[col_name]), desanidar_keys], axis=1)\n",
    "\n",
    "    return desanidar_data\n"
   ]
  },
  {
   "cell_type": "markdown",
   "metadata": {},
   "source": [
    "-*Se aplica la funcion a la columna cast y a la columna crew del dataframe df_credits*"
   ]
  },
  {
   "cell_type": "code",
   "execution_count": 29,
   "metadata": {},
   "outputs": [],
   "source": [
    "cast_df = desanidar_col(df_credits, \"cast\", \"cast\")\n",
    "crew_df = desanidar_col(df_credits, \"crew\", \"crew\")\n"
   ]
  },
  {
   "cell_type": "code",
   "execution_count": 30,
   "metadata": {},
   "outputs": [
    {
     "data": {
      "text/html": [
       "<div>\n",
       "<style scoped>\n",
       "    .dataframe tbody tr th:only-of-type {\n",
       "        vertical-align: middle;\n",
       "    }\n",
       "\n",
       "    .dataframe tbody tr th {\n",
       "        vertical-align: top;\n",
       "    }\n",
       "\n",
       "    .dataframe thead th {\n",
       "        text-align: right;\n",
       "    }\n",
       "</style>\n",
       "<table border=\"1\" class=\"dataframe\">\n",
       "  <thead>\n",
       "    <tr style=\"text-align: right;\">\n",
       "      <th></th>\n",
       "      <th>crew</th>\n",
       "      <th>id</th>\n",
       "      <th>cast_cast_id</th>\n",
       "      <th>cast_character</th>\n",
       "      <th>cast_credit_id</th>\n",
       "      <th>cast_gender</th>\n",
       "      <th>cast_id</th>\n",
       "      <th>cast_name</th>\n",
       "      <th>cast_order</th>\n",
       "      <th>cast_profile_path</th>\n",
       "    </tr>\n",
       "  </thead>\n",
       "  <tbody>\n",
       "    <tr>\n",
       "      <th>0</th>\n",
       "      <td>[{'credit_id': '52fe4284c3a36847f8024f49', 'de...</td>\n",
       "      <td>862</td>\n",
       "      <td>14.0</td>\n",
       "      <td>Woody (voice)</td>\n",
       "      <td>52fe4284c3a36847f8024f95</td>\n",
       "      <td>2.0</td>\n",
       "      <td>31.0</td>\n",
       "      <td>Tom Hanks</td>\n",
       "      <td>0.0</td>\n",
       "      <td>/pQFoyx7rp09CJTAb932F2g8Nlho.jpg</td>\n",
       "    </tr>\n",
       "    <tr>\n",
       "      <th>1</th>\n",
       "      <td>[{'credit_id': '52fe4284c3a36847f8024f49', 'de...</td>\n",
       "      <td>862</td>\n",
       "      <td>15.0</td>\n",
       "      <td>Buzz Lightyear (voice)</td>\n",
       "      <td>52fe4284c3a36847f8024f99</td>\n",
       "      <td>2.0</td>\n",
       "      <td>12898.0</td>\n",
       "      <td>Tim Allen</td>\n",
       "      <td>1.0</td>\n",
       "      <td>/uX2xVf6pMmPepxnvFWyBtjexzgY.jpg</td>\n",
       "    </tr>\n",
       "  </tbody>\n",
       "</table>\n",
       "</div>"
      ],
      "text/plain": [
       "                                                crew   id  cast_cast_id  \\\n",
       "0  [{'credit_id': '52fe4284c3a36847f8024f49', 'de...  862          14.0   \n",
       "1  [{'credit_id': '52fe4284c3a36847f8024f49', 'de...  862          15.0   \n",
       "\n",
       "           cast_character            cast_credit_id  cast_gender  cast_id  \\\n",
       "0           Woody (voice)  52fe4284c3a36847f8024f95          2.0     31.0   \n",
       "1  Buzz Lightyear (voice)  52fe4284c3a36847f8024f99          2.0  12898.0   \n",
       "\n",
       "   cast_name  cast_order                 cast_profile_path  \n",
       "0  Tom Hanks         0.0  /pQFoyx7rp09CJTAb932F2g8Nlho.jpg  \n",
       "1  Tim Allen         1.0  /uX2xVf6pMmPepxnvFWyBtjexzgY.jpg  "
      ]
     },
     "execution_count": 30,
     "metadata": {},
     "output_type": "execute_result"
    }
   ],
   "source": [
    "cast_df.head(2)"
   ]
  },
  {
   "cell_type": "code",
   "execution_count": 31,
   "metadata": {},
   "outputs": [],
   "source": [
    "cast_df.drop('crew', axis=1, inplace=True)\n",
    "crew_df.drop('cast', axis=1, inplace=True)"
   ]
  },
  {
   "cell_type": "code",
   "execution_count": 32,
   "metadata": {},
   "outputs": [],
   "source": [
    "crew_df.rename(columns={'id': 'id_miembro'}, inplace=True)\n"
   ]
  },
  {
   "cell_type": "code",
   "execution_count": 33,
   "metadata": {},
   "outputs": [
    {
     "data": {
      "text/html": [
       "<div>\n",
       "<style scoped>\n",
       "    .dataframe tbody tr th:only-of-type {\n",
       "        vertical-align: middle;\n",
       "    }\n",
       "\n",
       "    .dataframe tbody tr th {\n",
       "        vertical-align: top;\n",
       "    }\n",
       "\n",
       "    .dataframe thead th {\n",
       "        text-align: right;\n",
       "    }\n",
       "</style>\n",
       "<table border=\"1\" class=\"dataframe\">\n",
       "  <thead>\n",
       "    <tr style=\"text-align: right;\">\n",
       "      <th></th>\n",
       "      <th>id_miembro</th>\n",
       "      <th>crew_credit_id</th>\n",
       "      <th>crew_department</th>\n",
       "      <th>crew_gender</th>\n",
       "      <th>crew_id</th>\n",
       "      <th>crew_job</th>\n",
       "      <th>crew_name</th>\n",
       "      <th>crew_profile_path</th>\n",
       "    </tr>\n",
       "  </thead>\n",
       "  <tbody>\n",
       "    <tr>\n",
       "      <th>0</th>\n",
       "      <td>862</td>\n",
       "      <td>52fe4284c3a36847f8024f49</td>\n",
       "      <td>Directing</td>\n",
       "      <td>2.0</td>\n",
       "      <td>7879.0</td>\n",
       "      <td>Director</td>\n",
       "      <td>John Lasseter</td>\n",
       "      <td>/7EdqiNbr4FRjIhKHyPPdFfEEEFG.jpg</td>\n",
       "    </tr>\n",
       "    <tr>\n",
       "      <th>1</th>\n",
       "      <td>862</td>\n",
       "      <td>52fe4284c3a36847f8024f4f</td>\n",
       "      <td>Writing</td>\n",
       "      <td>2.0</td>\n",
       "      <td>12891.0</td>\n",
       "      <td>Screenplay</td>\n",
       "      <td>Joss Whedon</td>\n",
       "      <td>/dTiVsuaTVTeGmvkhcyJvKp2A5kr.jpg</td>\n",
       "    </tr>\n",
       "    <tr>\n",
       "      <th>2</th>\n",
       "      <td>862</td>\n",
       "      <td>52fe4284c3a36847f8024f55</td>\n",
       "      <td>Writing</td>\n",
       "      <td>2.0</td>\n",
       "      <td>7.0</td>\n",
       "      <td>Screenplay</td>\n",
       "      <td>Andrew Stanton</td>\n",
       "      <td>/pvQWsu0qc8JFQhMVJkTHuexUAa1.jpg</td>\n",
       "    </tr>\n",
       "    <tr>\n",
       "      <th>3</th>\n",
       "      <td>862</td>\n",
       "      <td>52fe4284c3a36847f8024f5b</td>\n",
       "      <td>Writing</td>\n",
       "      <td>2.0</td>\n",
       "      <td>12892.0</td>\n",
       "      <td>Screenplay</td>\n",
       "      <td>Joel Cohen</td>\n",
       "      <td>/dAubAiZcvKFbboWlj7oXOkZnTSu.jpg</td>\n",
       "    </tr>\n",
       "    <tr>\n",
       "      <th>4</th>\n",
       "      <td>862</td>\n",
       "      <td>52fe4284c3a36847f8024f61</td>\n",
       "      <td>Writing</td>\n",
       "      <td>0.0</td>\n",
       "      <td>12893.0</td>\n",
       "      <td>Screenplay</td>\n",
       "      <td>Alec Sokolow</td>\n",
       "      <td>/v79vlRYi94BZUQnkkyznbGUZLjT.jpg</td>\n",
       "    </tr>\n",
       "  </tbody>\n",
       "</table>\n",
       "</div>"
      ],
      "text/plain": [
       "   id_miembro            crew_credit_id crew_department  crew_gender  crew_id  \\\n",
       "0         862  52fe4284c3a36847f8024f49       Directing          2.0   7879.0   \n",
       "1         862  52fe4284c3a36847f8024f4f         Writing          2.0  12891.0   \n",
       "2         862  52fe4284c3a36847f8024f55         Writing          2.0      7.0   \n",
       "3         862  52fe4284c3a36847f8024f5b         Writing          2.0  12892.0   \n",
       "4         862  52fe4284c3a36847f8024f61         Writing          0.0  12893.0   \n",
       "\n",
       "     crew_job       crew_name                 crew_profile_path  \n",
       "0    Director   John Lasseter  /7EdqiNbr4FRjIhKHyPPdFfEEEFG.jpg  \n",
       "1  Screenplay     Joss Whedon  /dTiVsuaTVTeGmvkhcyJvKp2A5kr.jpg  \n",
       "2  Screenplay  Andrew Stanton  /pvQWsu0qc8JFQhMVJkTHuexUAa1.jpg  \n",
       "3  Screenplay      Joel Cohen  /dAubAiZcvKFbboWlj7oXOkZnTSu.jpg  \n",
       "4  Screenplay    Alec Sokolow  /v79vlRYi94BZUQnkkyznbGUZLjT.jpg  "
      ]
     },
     "execution_count": 33,
     "metadata": {},
     "output_type": "execute_result"
    }
   ],
   "source": [
    "crew_df.head()"
   ]
  },
  {
   "cell_type": "code",
   "execution_count": 34,
   "metadata": {},
   "outputs": [
    {
     "data": {
      "text/html": [
       "<div>\n",
       "<style scoped>\n",
       "    .dataframe tbody tr th:only-of-type {\n",
       "        vertical-align: middle;\n",
       "    }\n",
       "\n",
       "    .dataframe tbody tr th {\n",
       "        vertical-align: top;\n",
       "    }\n",
       "\n",
       "    .dataframe thead th {\n",
       "        text-align: right;\n",
       "    }\n",
       "</style>\n",
       "<table border=\"1\" class=\"dataframe\">\n",
       "  <thead>\n",
       "    <tr style=\"text-align: right;\">\n",
       "      <th></th>\n",
       "      <th>budget</th>\n",
       "      <th>genres</th>\n",
       "      <th>id</th>\n",
       "      <th>original_language</th>\n",
       "      <th>overview</th>\n",
       "      <th>popularity</th>\n",
       "      <th>production_companies</th>\n",
       "      <th>production_countries</th>\n",
       "      <th>release_date</th>\n",
       "      <th>revenue</th>\n",
       "      <th>runtime</th>\n",
       "      <th>spoken_languages</th>\n",
       "      <th>status</th>\n",
       "      <th>title</th>\n",
       "      <th>vote_average</th>\n",
       "      <th>vote_count</th>\n",
       "      <th>release_year</th>\n",
       "      <th>return</th>\n",
       "    </tr>\n",
       "  </thead>\n",
       "  <tbody>\n",
       "    <tr>\n",
       "      <th>0</th>\n",
       "      <td>30000000</td>\n",
       "      <td>[{'id': 16, 'name': 'Animation'}, {'id': 35, '...</td>\n",
       "      <td>862</td>\n",
       "      <td>en</td>\n",
       "      <td>Led by Woody, Andy's toys live happily in his ...</td>\n",
       "      <td>21.946943</td>\n",
       "      <td>[{'name': 'Pixar Animation Studios', 'id': 3}]</td>\n",
       "      <td>[{'iso_3166_1': 'US', 'name': 'United States o...</td>\n",
       "      <td>1995-10-30</td>\n",
       "      <td>373554033</td>\n",
       "      <td>81.0</td>\n",
       "      <td>[{'iso_639_1': 'en', 'name': 'English'}]</td>\n",
       "      <td>Released</td>\n",
       "      <td>Toy Story</td>\n",
       "      <td>7.7</td>\n",
       "      <td>5415</td>\n",
       "      <td>1995</td>\n",
       "      <td>12.451801</td>\n",
       "    </tr>\n",
       "    <tr>\n",
       "      <th>1</th>\n",
       "      <td>65000000</td>\n",
       "      <td>[{'id': 12, 'name': 'Adventure'}, {'id': 14, '...</td>\n",
       "      <td>8844</td>\n",
       "      <td>en</td>\n",
       "      <td>When siblings Judy and Peter discover an encha...</td>\n",
       "      <td>17.015539</td>\n",
       "      <td>[{'name': 'TriStar Pictures', 'id': 559}, {'na...</td>\n",
       "      <td>[{'iso_3166_1': 'US', 'name': 'United States o...</td>\n",
       "      <td>1995-12-15</td>\n",
       "      <td>262797249</td>\n",
       "      <td>104.0</td>\n",
       "      <td>[{'iso_639_1': 'en', 'name': 'English'}, {'iso...</td>\n",
       "      <td>Released</td>\n",
       "      <td>Jumanji</td>\n",
       "      <td>6.9</td>\n",
       "      <td>2413</td>\n",
       "      <td>1995</td>\n",
       "      <td>4.043035</td>\n",
       "    </tr>\n",
       "  </tbody>\n",
       "</table>\n",
       "</div>"
      ],
      "text/plain": [
       "     budget                                             genres    id  \\\n",
       "0  30000000  [{'id': 16, 'name': 'Animation'}, {'id': 35, '...   862   \n",
       "1  65000000  [{'id': 12, 'name': 'Adventure'}, {'id': 14, '...  8844   \n",
       "\n",
       "  original_language                                           overview  \\\n",
       "0                en  Led by Woody, Andy's toys live happily in his ...   \n",
       "1                en  When siblings Judy and Peter discover an encha...   \n",
       "\n",
       "   popularity                               production_companies  \\\n",
       "0   21.946943     [{'name': 'Pixar Animation Studios', 'id': 3}]   \n",
       "1   17.015539  [{'name': 'TriStar Pictures', 'id': 559}, {'na...   \n",
       "\n",
       "                                production_countries release_date    revenue  \\\n",
       "0  [{'iso_3166_1': 'US', 'name': 'United States o...   1995-10-30  373554033   \n",
       "1  [{'iso_3166_1': 'US', 'name': 'United States o...   1995-12-15  262797249   \n",
       "\n",
       "   runtime                                   spoken_languages    status  \\\n",
       "0     81.0           [{'iso_639_1': 'en', 'name': 'English'}]  Released   \n",
       "1    104.0  [{'iso_639_1': 'en', 'name': 'English'}, {'iso...  Released   \n",
       "\n",
       "       title  vote_average  vote_count  release_year     return  \n",
       "0  Toy Story           7.7        5415          1995  12.451801  \n",
       "1    Jumanji           6.9        2413          1995   4.043035  "
      ]
     },
     "execution_count": 34,
     "metadata": {},
     "output_type": "execute_result"
    }
   ],
   "source": [
    "df_movies.head(2)"
   ]
  },
  {
   "cell_type": "markdown",
   "metadata": {},
   "source": [
    "### *Se seleccionan los datos de los df para comenzar a crear las funciones pedidas* ###"
   ]
  },
  {
   "cell_type": "markdown",
   "metadata": {},
   "source": [
    "- *Se crean las columnas dia y mes con los datos de la columna release_date del df original df_movies*"
   ]
  },
  {
   "cell_type": "code",
   "execution_count": 35,
   "metadata": {},
   "outputs": [],
   "source": [
    "df_movies['dia'] = df_movies['release_date'].dt.day\n",
    "df_movies['mes'] = df_movies['release_date'].dt.month"
   ]
  },
  {
   "cell_type": "markdown",
   "metadata": {},
   "source": [
    "- *Se crea el df_cantidad con las columnas status, mes, dia. Este dataframe será utilizado para las funciones contar_peliculas_por_mes y cantidad_filmaciones_dia*"
   ]
  },
  {
   "cell_type": "code",
   "execution_count": 36,
   "metadata": {},
   "outputs": [],
   "source": [
    "df_cantidad = df_movies[['status','mes','dia']]"
   ]
  },
  {
   "cell_type": "code",
   "execution_count": 37,
   "metadata": {},
   "outputs": [
    {
     "data": {
      "text/html": [
       "<div>\n",
       "<style scoped>\n",
       "    .dataframe tbody tr th:only-of-type {\n",
       "        vertical-align: middle;\n",
       "    }\n",
       "\n",
       "    .dataframe tbody tr th {\n",
       "        vertical-align: top;\n",
       "    }\n",
       "\n",
       "    .dataframe thead th {\n",
       "        text-align: right;\n",
       "    }\n",
       "</style>\n",
       "<table border=\"1\" class=\"dataframe\">\n",
       "  <thead>\n",
       "    <tr style=\"text-align: right;\">\n",
       "      <th></th>\n",
       "      <th>status</th>\n",
       "      <th>mes</th>\n",
       "      <th>dia</th>\n",
       "    </tr>\n",
       "  </thead>\n",
       "  <tbody>\n",
       "    <tr>\n",
       "      <th>0</th>\n",
       "      <td>Released</td>\n",
       "      <td>10</td>\n",
       "      <td>30</td>\n",
       "    </tr>\n",
       "    <tr>\n",
       "      <th>1</th>\n",
       "      <td>Released</td>\n",
       "      <td>12</td>\n",
       "      <td>15</td>\n",
       "    </tr>\n",
       "    <tr>\n",
       "      <th>2</th>\n",
       "      <td>Released</td>\n",
       "      <td>12</td>\n",
       "      <td>22</td>\n",
       "    </tr>\n",
       "    <tr>\n",
       "      <th>3</th>\n",
       "      <td>Released</td>\n",
       "      <td>12</td>\n",
       "      <td>22</td>\n",
       "    </tr>\n",
       "    <tr>\n",
       "      <th>5</th>\n",
       "      <td>Released</td>\n",
       "      <td>12</td>\n",
       "      <td>15</td>\n",
       "    </tr>\n",
       "    <tr>\n",
       "      <th>...</th>\n",
       "      <td>...</td>\n",
       "      <td>...</td>\n",
       "      <td>...</td>\n",
       "    </tr>\n",
       "    <tr>\n",
       "      <th>495</th>\n",
       "      <td>Released</td>\n",
       "      <td>11</td>\n",
       "      <td>24</td>\n",
       "    </tr>\n",
       "    <tr>\n",
       "      <th>496</th>\n",
       "      <td>Released</td>\n",
       "      <td>9</td>\n",
       "      <td>14</td>\n",
       "    </tr>\n",
       "    <tr>\n",
       "      <th>497</th>\n",
       "      <td>Released</td>\n",
       "      <td>7</td>\n",
       "      <td>18</td>\n",
       "    </tr>\n",
       "    <tr>\n",
       "      <th>498</th>\n",
       "      <td>Released</td>\n",
       "      <td>9</td>\n",
       "      <td>16</td>\n",
       "    </tr>\n",
       "    <tr>\n",
       "      <th>499</th>\n",
       "      <td>Released</td>\n",
       "      <td>4</td>\n",
       "      <td>29</td>\n",
       "    </tr>\n",
       "  </tbody>\n",
       "</table>\n",
       "<p>496 rows × 3 columns</p>\n",
       "</div>"
      ],
      "text/plain": [
       "       status  mes  dia\n",
       "0    Released   10   30\n",
       "1    Released   12   15\n",
       "2    Released   12   22\n",
       "3    Released   12   22\n",
       "5    Released   12   15\n",
       "..        ...  ...  ...\n",
       "495  Released   11   24\n",
       "496  Released    9   14\n",
       "497  Released    7   18\n",
       "498  Released    9   16\n",
       "499  Released    4   29\n",
       "\n",
       "[496 rows x 3 columns]"
      ]
     },
     "execution_count": 37,
     "metadata": {},
     "output_type": "execute_result"
    }
   ],
   "source": [
    "df_cantidad"
   ]
  },
  {
   "cell_type": "markdown",
   "metadata": {},
   "source": [
    "- *Se exporta el df_cantidad como un archivo csc bajo el nombre 'dataset_cantidad.csv'*"
   ]
  },
  {
   "cell_type": "code",
   "execution_count": 38,
   "metadata": {},
   "outputs": [],
   "source": [
    "df_cantidad.to_csv('dataset_cantidad.csv', index=False)"
   ]
  },
  {
   "cell_type": "markdown",
   "metadata": {},
   "source": [
    "- *Se crea la funcion contar_peliculas_por_mes, la cual recibe como parametro un input con el nombre del mes (str).*\n",
    "- *Esta funcion cuenta con un diccionario con los nombre de los meses como key y se asigna un numero como clave.*\n",
    "- *En primera instancia convierte el nombre del mes recibido en minuscula y procede a mapear el diccionario meses_dict. Si el input no es valido devuelve un mensaje de error*\n",
    "- *Luego filtra el df_cantidad por el mes y el estado de la pelicula, si esta coincide lo guarda en la variable peliculas_estrenadas*\n",
    "- *Finalmente devuelve el conteo de las peliculas estrenadas en el mes recibido*"
   ]
  },
  {
   "cell_type": "code",
   "execution_count": 39,
   "metadata": {},
   "outputs": [],
   "source": [
    "def contar_peliculas_por_mes(mes):\n",
    "    meses_dict = {\n",
    "        'enero': 1,\n",
    "        'febrero': 2,\n",
    "        'marzo': 3,\n",
    "        'abril': 4,\n",
    "        'mayo': 5,\n",
    "        'junio': 6,\n",
    "        'julio': 7,\n",
    "        'agosto': 8,\n",
    "        'septiembre': 9,\n",
    "        'octubre': 10,\n",
    "        'noviembre': 11,\n",
    "        'diciembre': 12\n",
    "    }\n",
    "    \n",
    "    mes_numero = meses_dict.get(mes.lower())\n",
    "    \n",
    "    if mes_numero is None:\n",
    "        return \"Mes no válido. Por favor, ingresa un mes válido en español.\"\n",
    "    \n",
    "    peliculas_estrenadas = df_cantidad[(df_cantidad['mes'] == mes_numero) & (df_cantidad['status'] == 'Released')]\n",
    "\n",
    "    return len(peliculas_estrenadas)\n"
   ]
  },
  {
   "cell_type": "markdown",
   "metadata": {},
   "source": [
    "- *Se prueba la funcion*"
   ]
  },
  {
   "cell_type": "code",
   "execution_count": 40,
   "metadata": {},
   "outputs": [
    {
     "name": "stdout",
     "output_type": "stream",
     "text": [
      "Cantidad de películas estrenadas en enero: 41\n"
     ]
    }
   ],
   "source": [
    "mes_input = input(\"Ingresa el nombre de un mes: \")\n",
    "cantidad_peliculas = contar_peliculas_por_mes(mes_input)\n",
    "print(f\"Cantidad de películas estrenadas en {mes_input}: {cantidad_peliculas}\")"
   ]
  },
  {
   "cell_type": "markdown",
   "metadata": {},
   "source": [
    "- *Se crea la funcion cantidad_filmaciones_dia que recibe como parametro el nombre de un dia. Esta funcion tambien utiliza el df_cantidad*\n",
    "- *Contiene un diccionario dias_dict con los nombres de los dias como key y como clave se le asigna un numero que coincide con la columna mes del df_cantidad*\n",
    "- *Se utiliza el metodo get para obtener el valor del diccionario que corresponde al dia ingresado y se transforma el input en minuscula para que coincida con el diccionario*\n",
    "- *Si el dia no se encuentra se arroja un mensaje de error*\n",
    "- *Finalmente aloja en la variable peliculas_estrenadas aquellas peliculas que coincidan con el dia y su estado sea released y luego retorna la cantidad de peliculas estrenadas ese dia de la semana*"
   ]
  },
  {
   "cell_type": "code",
   "execution_count": 41,
   "metadata": {},
   "outputs": [],
   "source": [
    "'''cantidad de filmaciones estrenadas en un dia de la semana '''\n",
    "def cantidad_filmaciones_dia(dia):\n",
    "    dias_dict = {\n",
    "        'domingo': 1,\n",
    "        'lunes': 2,\n",
    "        'martes': 3,\n",
    "        'miercoles': 4,\n",
    "        'jueves': 5,\n",
    "        'viernes': 6,\n",
    "        'sabado': 7\n",
    "    }\n",
    "    \n",
    "    numero_dia = dias_dict.get(dia.lower())\n",
    "    if numero_dia is None:\n",
    "        return \"Dia no válido. Por favor, ingresa un dia válido en español.\"\n",
    "    peliculas_estrenadas = df_cantidad[(df_cantidad['dia'] == numero_dia) & (df_cantidad['status'] == 'Released')]\n",
    "    return len(peliculas_estrenadas)"
   ]
  },
  {
   "cell_type": "markdown",
   "metadata": {},
   "source": [
    "-*Prueba de la funcion*l"
   ]
  },
  {
   "cell_type": "code",
   "execution_count": 64,
   "metadata": {},
   "outputs": [
    {
     "name": "stdout",
     "output_type": "stream",
     "text": [
      "Cantidad de películas estrenadas en lunes: 9\n"
     ]
    }
   ],
   "source": [
    "dia_input = input(\"Ingresa el nombre de un dia: \")\n",
    "cantidad_peliculas = cantidad_filmaciones_dia(dia_input)\n",
    "print(f\"Cantidad de películas estrenadas en {dia_input}: {cantidad_peliculas}\")"
   ]
  },
  {
   "cell_type": "markdown",
   "metadata": {},
   "source": [
    "- *Se crea el dataframe df_score_titulo con las columnas title.release_year y popularity del df original df_movies. Para la funcion score_titulo*\n",
    "- *Se exporta en un archivo csv bajo el nombre 'dataset_score_title.csv'*"
   ]
  },
  {
   "cell_type": "code",
   "execution_count": 43,
   "metadata": {},
   "outputs": [],
   "source": [
    "df_score_titulo = df_movies[['title','release_year','popularity']] \n",
    "df_score_titulo.to_csv('dataset_score_title.csv', index=False)"
   ]
  },
  {
   "cell_type": "markdown",
   "metadata": {},
   "source": [
    "- *La funcion score_titulo reecibe como parametro el nombre del titulo de la filmacion*\n",
    "- *En la variable pelicula guarda el resultado de la coincidencia luego de convertir el input recibido y los datos en la columna title en minuscula. Si el titulo ingresado es incorrecto o esta vacio devuelve un mensaje de error.*\n",
    "- *Extrae los unicos valores almacenados en pelicula y los renombra como titulo, anio_estreno y score*\n",
    "- *Finalmente retorna el mensaje con el titulo de la pelicula, elaño que fue estrenada y la popularidad de la misma*"
   ]
  },
  {
   "cell_type": "code",
   "execution_count": 44,
   "metadata": {},
   "outputs": [],
   "source": [
    "def score_titulo(titulo_de_la_filmacion):\n",
    "    pelicula = df_score_titulo[df_score_titulo['title'].str.lower() == titulo_de_la_filmacion.lower()]\n",
    "    if pelicula.empty:\n",
    "        return \"El título ingresado no se encuentra en la base de datos.\"\n",
    "    \n",
    "    titulo = pelicula['title'].iloc[0]\n",
    "    anio_estreno = pelicula['release_year'].iloc[0]\n",
    "    score = pelicula['popularity'].iloc[0]\n",
    "    print(pelicula)\n",
    "    return f\"La película '{titulo}' fue estrenada en el año {anio_estreno} con un score/popularidad de {score}.\"\n"
   ]
  },
  {
   "cell_type": "markdown",
   "metadata": {},
   "source": [
    "- *Prueba de la funcion*"
   ]
  },
  {
   "cell_type": "code",
   "execution_count": 45,
   "metadata": {},
   "outputs": [
    {
     "name": "stdout",
     "output_type": "stream",
     "text": [
      "       title  release_year  popularity\n",
      "0  Toy Story          1995   21.946943\n",
      "La película 'Toy Story' fue estrenada en el año 1995 con un score/popularidad de 21.946943.\n"
     ]
    }
   ],
   "source": [
    "titulo = input(\"Ingresa el título de una filmación: \")\n",
    "resultado = score_titulo(titulo)\n",
    "print(resultado)"
   ]
  },
  {
   "cell_type": "markdown",
   "metadata": {},
   "source": [
    "- *Se crea el dataframe df_votos con las columnas title,vote_average y vote acount del df original df_movies.*\n",
    "- *Se importa el df_votos como un archivo csv con el nombre de dataset_votos.csv.*"
   ]
  },
  {
   "cell_type": "code",
   "execution_count": 46,
   "metadata": {},
   "outputs": [],
   "source": [
    "df_votos = df_movies[['title','vote_average','vote_count']]\n",
    "df_votos.to_csv('dataset_votos.csv', index=False)"
   ]
  },
  {
   "cell_type": "markdown",
   "metadata": {},
   "source": [
    "- *La funcion votos_titulo recibe como parametro el nombre del titulo de la filmacion*\n",
    "- *Filtra el dataframe, convierte a minuscula el titulodel df y el input para buscar coincidencia y guardarla la variable pelicula Si el titulo ingresado es incorrecto o esta vacio devuelve un mensaje de error.*\n",
    "- *Extrae los unicos valores almacenados en pelicula y los renombra como titulo, cantidad_votos y promedio_votos*\n",
    "- *Verifica si la cantidad de votos de la pelicula es mayor a 2000. Si no cumple la condicion retorna un mensaje sobre la falta de cumplimiento del requisito y la cantidad de votos de la pelicula.*\n",
    "- *Finalmente retorna el mensaje con el titulo de la pelicula, el año que fue estrenada y la popularidad de la misma*"
   ]
  },
  {
   "cell_type": "code",
   "execution_count": 47,
   "metadata": {},
   "outputs": [],
   "source": [
    "'''Funcion titulo de la filmacion '''\n",
    "\n",
    "def votos_titulo(titulo_de_la_filmacion):\n",
    "    \n",
    "    pelicula = df_votos[df_votos['title'].str.lower() == titulo_de_la_filmacion.lower()]\n",
    "    if pelicula.empty:\n",
    "        return \"El título ingresado no se encuentra en la base de datos.\"\n",
    "    \n",
    "    titulo = pelicula['title'].iloc[0]\n",
    "    cantidad_votos = pelicula['vote_count'].iloc[0]\n",
    "    promedio_votos = pelicula['vote_average'].iloc[0]\n",
    "    \n",
    "    if cantidad_votos < 2000:\n",
    "        return f\"La película '{titulo}' no cumple con el requisito mínimo de 2000 valoraciones (tiene {cantidad_votos} valoraciones).\"\n",
    "    \n",
    "    return f\"La película '{titulo}' cuenta con un total de {cantidad_votos} valoraciones, con un promedio de {promedio_votos:.2f}.\"\n"
   ]
  },
  {
   "cell_type": "markdown",
   "metadata": {},
   "source": [
    "*Prueba de la funcion*"
   ]
  },
  {
   "cell_type": "code",
   "execution_count": 48,
   "metadata": {},
   "outputs": [
    {
     "name": "stdout",
     "output_type": "stream",
     "text": [
      "La película 'Toy Story' cuenta con un total de 5415 valoraciones, con un promedio de 7.70.\n"
     ]
    }
   ],
   "source": [
    "titulo = input(\"Ingresa el título de una filmación: \")\n",
    "resultado = votos_titulo(titulo)\n",
    "print(resultado)"
   ]
  },
  {
   "cell_type": "code",
   "execution_count": 49,
   "metadata": {},
   "outputs": [
    {
     "data": {
      "text/html": [
       "<div>\n",
       "<style scoped>\n",
       "    .dataframe tbody tr th:only-of-type {\n",
       "        vertical-align: middle;\n",
       "    }\n",
       "\n",
       "    .dataframe tbody tr th {\n",
       "        vertical-align: top;\n",
       "    }\n",
       "\n",
       "    .dataframe thead th {\n",
       "        text-align: right;\n",
       "    }\n",
       "</style>\n",
       "<table border=\"1\" class=\"dataframe\">\n",
       "  <thead>\n",
       "    <tr style=\"text-align: right;\">\n",
       "      <th></th>\n",
       "      <th>budget</th>\n",
       "      <th>genres</th>\n",
       "      <th>id</th>\n",
       "      <th>original_language</th>\n",
       "      <th>overview</th>\n",
       "      <th>popularity</th>\n",
       "      <th>production_companies</th>\n",
       "      <th>production_countries</th>\n",
       "      <th>release_date</th>\n",
       "      <th>revenue</th>\n",
       "      <th>runtime</th>\n",
       "      <th>spoken_languages</th>\n",
       "      <th>status</th>\n",
       "      <th>title</th>\n",
       "      <th>vote_average</th>\n",
       "      <th>vote_count</th>\n",
       "      <th>release_year</th>\n",
       "      <th>return</th>\n",
       "      <th>dia</th>\n",
       "      <th>mes</th>\n",
       "    </tr>\n",
       "  </thead>\n",
       "  <tbody>\n",
       "    <tr>\n",
       "      <th>0</th>\n",
       "      <td>30000000</td>\n",
       "      <td>[{'id': 16, 'name': 'Animation'}, {'id': 35, '...</td>\n",
       "      <td>862</td>\n",
       "      <td>en</td>\n",
       "      <td>Led by Woody, Andy's toys live happily in his ...</td>\n",
       "      <td>21.946943</td>\n",
       "      <td>[{'name': 'Pixar Animation Studios', 'id': 3}]</td>\n",
       "      <td>[{'iso_3166_1': 'US', 'name': 'United States o...</td>\n",
       "      <td>1995-10-30</td>\n",
       "      <td>373554033</td>\n",
       "      <td>81.0</td>\n",
       "      <td>[{'iso_639_1': 'en', 'name': 'English'}]</td>\n",
       "      <td>Released</td>\n",
       "      <td>Toy Story</td>\n",
       "      <td>7.7</td>\n",
       "      <td>5415</td>\n",
       "      <td>1995</td>\n",
       "      <td>12.451801</td>\n",
       "      <td>30</td>\n",
       "      <td>10</td>\n",
       "    </tr>\n",
       "    <tr>\n",
       "      <th>1</th>\n",
       "      <td>65000000</td>\n",
       "      <td>[{'id': 12, 'name': 'Adventure'}, {'id': 14, '...</td>\n",
       "      <td>8844</td>\n",
       "      <td>en</td>\n",
       "      <td>When siblings Judy and Peter discover an encha...</td>\n",
       "      <td>17.015539</td>\n",
       "      <td>[{'name': 'TriStar Pictures', 'id': 559}, {'na...</td>\n",
       "      <td>[{'iso_3166_1': 'US', 'name': 'United States o...</td>\n",
       "      <td>1995-12-15</td>\n",
       "      <td>262797249</td>\n",
       "      <td>104.0</td>\n",
       "      <td>[{'iso_639_1': 'en', 'name': 'English'}, {'iso...</td>\n",
       "      <td>Released</td>\n",
       "      <td>Jumanji</td>\n",
       "      <td>6.9</td>\n",
       "      <td>2413</td>\n",
       "      <td>1995</td>\n",
       "      <td>4.043035</td>\n",
       "      <td>15</td>\n",
       "      <td>12</td>\n",
       "    </tr>\n",
       "    <tr>\n",
       "      <th>2</th>\n",
       "      <td>0</td>\n",
       "      <td>[{'id': 10749, 'name': 'Romance'}, {'id': 35, ...</td>\n",
       "      <td>15602</td>\n",
       "      <td>en</td>\n",
       "      <td>A family wedding reignites the ancient feud be...</td>\n",
       "      <td>11.712900</td>\n",
       "      <td>[{'name': 'Warner Bros.', 'id': 6194}, {'name'...</td>\n",
       "      <td>[{'iso_3166_1': 'US', 'name': 'United States o...</td>\n",
       "      <td>1995-12-22</td>\n",
       "      <td>0</td>\n",
       "      <td>101.0</td>\n",
       "      <td>[{'iso_639_1': 'en', 'name': 'English'}]</td>\n",
       "      <td>Released</td>\n",
       "      <td>Grumpier Old Men</td>\n",
       "      <td>6.5</td>\n",
       "      <td>92</td>\n",
       "      <td>1995</td>\n",
       "      <td>0.000000</td>\n",
       "      <td>22</td>\n",
       "      <td>12</td>\n",
       "    </tr>\n",
       "    <tr>\n",
       "      <th>3</th>\n",
       "      <td>16000000</td>\n",
       "      <td>[{'id': 35, 'name': 'Comedy'}, {'id': 18, 'nam...</td>\n",
       "      <td>31357</td>\n",
       "      <td>en</td>\n",
       "      <td>Cheated on, mistreated and stepped on, the wom...</td>\n",
       "      <td>3.859495</td>\n",
       "      <td>[{'name': 'Twentieth Century Fox Film Corporat...</td>\n",
       "      <td>[{'iso_3166_1': 'US', 'name': 'United States o...</td>\n",
       "      <td>1995-12-22</td>\n",
       "      <td>81452156</td>\n",
       "      <td>127.0</td>\n",
       "      <td>[{'iso_639_1': 'en', 'name': 'English'}]</td>\n",
       "      <td>Released</td>\n",
       "      <td>Waiting to Exhale</td>\n",
       "      <td>6.1</td>\n",
       "      <td>34</td>\n",
       "      <td>1995</td>\n",
       "      <td>5.090760</td>\n",
       "      <td>22</td>\n",
       "      <td>12</td>\n",
       "    </tr>\n",
       "    <tr>\n",
       "      <th>5</th>\n",
       "      <td>60000000</td>\n",
       "      <td>[{'id': 28, 'name': 'Action'}, {'id': 80, 'nam...</td>\n",
       "      <td>949</td>\n",
       "      <td>en</td>\n",
       "      <td>Obsessive master thief, Neil McCauley leads a ...</td>\n",
       "      <td>17.924927</td>\n",
       "      <td>[{'name': 'Regency Enterprises', 'id': 508}, {...</td>\n",
       "      <td>[{'iso_3166_1': 'US', 'name': 'United States o...</td>\n",
       "      <td>1995-12-15</td>\n",
       "      <td>187436818</td>\n",
       "      <td>170.0</td>\n",
       "      <td>[{'iso_639_1': 'en', 'name': 'English'}, {'iso...</td>\n",
       "      <td>Released</td>\n",
       "      <td>Heat</td>\n",
       "      <td>7.7</td>\n",
       "      <td>1886</td>\n",
       "      <td>1995</td>\n",
       "      <td>3.123947</td>\n",
       "      <td>15</td>\n",
       "      <td>12</td>\n",
       "    </tr>\n",
       "  </tbody>\n",
       "</table>\n",
       "</div>"
      ],
      "text/plain": [
       "     budget                                             genres     id  \\\n",
       "0  30000000  [{'id': 16, 'name': 'Animation'}, {'id': 35, '...    862   \n",
       "1  65000000  [{'id': 12, 'name': 'Adventure'}, {'id': 14, '...   8844   \n",
       "2         0  [{'id': 10749, 'name': 'Romance'}, {'id': 35, ...  15602   \n",
       "3  16000000  [{'id': 35, 'name': 'Comedy'}, {'id': 18, 'nam...  31357   \n",
       "5  60000000  [{'id': 28, 'name': 'Action'}, {'id': 80, 'nam...    949   \n",
       "\n",
       "  original_language                                           overview  \\\n",
       "0                en  Led by Woody, Andy's toys live happily in his ...   \n",
       "1                en  When siblings Judy and Peter discover an encha...   \n",
       "2                en  A family wedding reignites the ancient feud be...   \n",
       "3                en  Cheated on, mistreated and stepped on, the wom...   \n",
       "5                en  Obsessive master thief, Neil McCauley leads a ...   \n",
       "\n",
       "   popularity                               production_companies  \\\n",
       "0   21.946943     [{'name': 'Pixar Animation Studios', 'id': 3}]   \n",
       "1   17.015539  [{'name': 'TriStar Pictures', 'id': 559}, {'na...   \n",
       "2   11.712900  [{'name': 'Warner Bros.', 'id': 6194}, {'name'...   \n",
       "3    3.859495  [{'name': 'Twentieth Century Fox Film Corporat...   \n",
       "5   17.924927  [{'name': 'Regency Enterprises', 'id': 508}, {...   \n",
       "\n",
       "                                production_countries release_date    revenue  \\\n",
       "0  [{'iso_3166_1': 'US', 'name': 'United States o...   1995-10-30  373554033   \n",
       "1  [{'iso_3166_1': 'US', 'name': 'United States o...   1995-12-15  262797249   \n",
       "2  [{'iso_3166_1': 'US', 'name': 'United States o...   1995-12-22          0   \n",
       "3  [{'iso_3166_1': 'US', 'name': 'United States o...   1995-12-22   81452156   \n",
       "5  [{'iso_3166_1': 'US', 'name': 'United States o...   1995-12-15  187436818   \n",
       "\n",
       "   runtime                                   spoken_languages    status  \\\n",
       "0     81.0           [{'iso_639_1': 'en', 'name': 'English'}]  Released   \n",
       "1    104.0  [{'iso_639_1': 'en', 'name': 'English'}, {'iso...  Released   \n",
       "2    101.0           [{'iso_639_1': 'en', 'name': 'English'}]  Released   \n",
       "3    127.0           [{'iso_639_1': 'en', 'name': 'English'}]  Released   \n",
       "5    170.0  [{'iso_639_1': 'en', 'name': 'English'}, {'iso...  Released   \n",
       "\n",
       "               title  vote_average  vote_count  release_year     return  dia  \\\n",
       "0          Toy Story           7.7        5415          1995  12.451801   30   \n",
       "1            Jumanji           6.9        2413          1995   4.043035   15   \n",
       "2   Grumpier Old Men           6.5          92          1995   0.000000   22   \n",
       "3  Waiting to Exhale           6.1          34          1995   5.090760   22   \n",
       "5               Heat           7.7        1886          1995   3.123947   15   \n",
       "\n",
       "   mes  \n",
       "0   10  \n",
       "1   12  \n",
       "2   12  \n",
       "3   12  \n",
       "5   12  "
      ]
     },
     "execution_count": 49,
     "metadata": {},
     "output_type": "execute_result"
    }
   ],
   "source": [
    "df_movies.head()"
   ]
  },
  {
   "cell_type": "code",
   "execution_count": 50,
   "metadata": {},
   "outputs": [
    {
     "data": {
      "text/html": [
       "<div>\n",
       "<style scoped>\n",
       "    .dataframe tbody tr th:only-of-type {\n",
       "        vertical-align: middle;\n",
       "    }\n",
       "\n",
       "    .dataframe tbody tr th {\n",
       "        vertical-align: top;\n",
       "    }\n",
       "\n",
       "    .dataframe thead th {\n",
       "        text-align: right;\n",
       "    }\n",
       "</style>\n",
       "<table border=\"1\" class=\"dataframe\">\n",
       "  <thead>\n",
       "    <tr style=\"text-align: right;\">\n",
       "      <th></th>\n",
       "      <th>id</th>\n",
       "      <th>cast_cast_id</th>\n",
       "      <th>cast_character</th>\n",
       "      <th>cast_credit_id</th>\n",
       "      <th>cast_gender</th>\n",
       "      <th>cast_id</th>\n",
       "      <th>cast_name</th>\n",
       "      <th>cast_order</th>\n",
       "      <th>cast_profile_path</th>\n",
       "    </tr>\n",
       "  </thead>\n",
       "  <tbody>\n",
       "    <tr>\n",
       "      <th>0</th>\n",
       "      <td>862</td>\n",
       "      <td>14.0</td>\n",
       "      <td>Woody (voice)</td>\n",
       "      <td>52fe4284c3a36847f8024f95</td>\n",
       "      <td>2.0</td>\n",
       "      <td>31.0</td>\n",
       "      <td>Tom Hanks</td>\n",
       "      <td>0.0</td>\n",
       "      <td>/pQFoyx7rp09CJTAb932F2g8Nlho.jpg</td>\n",
       "    </tr>\n",
       "    <tr>\n",
       "      <th>1</th>\n",
       "      <td>862</td>\n",
       "      <td>15.0</td>\n",
       "      <td>Buzz Lightyear (voice)</td>\n",
       "      <td>52fe4284c3a36847f8024f99</td>\n",
       "      <td>2.0</td>\n",
       "      <td>12898.0</td>\n",
       "      <td>Tim Allen</td>\n",
       "      <td>1.0</td>\n",
       "      <td>/uX2xVf6pMmPepxnvFWyBtjexzgY.jpg</td>\n",
       "    </tr>\n",
       "    <tr>\n",
       "      <th>2</th>\n",
       "      <td>862</td>\n",
       "      <td>16.0</td>\n",
       "      <td>Mr. Potato Head (voice)</td>\n",
       "      <td>52fe4284c3a36847f8024f9d</td>\n",
       "      <td>2.0</td>\n",
       "      <td>7167.0</td>\n",
       "      <td>Don Rickles</td>\n",
       "      <td>2.0</td>\n",
       "      <td>/h5BcaDMPRVLHLDzbQavec4xfSdt.jpg</td>\n",
       "    </tr>\n",
       "    <tr>\n",
       "      <th>3</th>\n",
       "      <td>862</td>\n",
       "      <td>17.0</td>\n",
       "      <td>Slinky Dog (voice)</td>\n",
       "      <td>52fe4284c3a36847f8024fa1</td>\n",
       "      <td>2.0</td>\n",
       "      <td>12899.0</td>\n",
       "      <td>Jim Varney</td>\n",
       "      <td>3.0</td>\n",
       "      <td>/eIo2jVVXYgjDtaHoF19Ll9vtW7h.jpg</td>\n",
       "    </tr>\n",
       "    <tr>\n",
       "      <th>4</th>\n",
       "      <td>862</td>\n",
       "      <td>18.0</td>\n",
       "      <td>Rex (voice)</td>\n",
       "      <td>52fe4284c3a36847f8024fa5</td>\n",
       "      <td>2.0</td>\n",
       "      <td>12900.0</td>\n",
       "      <td>Wallace Shawn</td>\n",
       "      <td>4.0</td>\n",
       "      <td>/oGE6JqPP2xH4tNORKNqxbNPYi7u.jpg</td>\n",
       "    </tr>\n",
       "  </tbody>\n",
       "</table>\n",
       "</div>"
      ],
      "text/plain": [
       "    id  cast_cast_id           cast_character            cast_credit_id  \\\n",
       "0  862          14.0            Woody (voice)  52fe4284c3a36847f8024f95   \n",
       "1  862          15.0   Buzz Lightyear (voice)  52fe4284c3a36847f8024f99   \n",
       "2  862          16.0  Mr. Potato Head (voice)  52fe4284c3a36847f8024f9d   \n",
       "3  862          17.0       Slinky Dog (voice)  52fe4284c3a36847f8024fa1   \n",
       "4  862          18.0              Rex (voice)  52fe4284c3a36847f8024fa5   \n",
       "\n",
       "   cast_gender  cast_id      cast_name  cast_order  \\\n",
       "0          2.0     31.0      Tom Hanks         0.0   \n",
       "1          2.0  12898.0      Tim Allen         1.0   \n",
       "2          2.0   7167.0    Don Rickles         2.0   \n",
       "3          2.0  12899.0     Jim Varney         3.0   \n",
       "4          2.0  12900.0  Wallace Shawn         4.0   \n",
       "\n",
       "                  cast_profile_path  \n",
       "0  /pQFoyx7rp09CJTAb932F2g8Nlho.jpg  \n",
       "1  /uX2xVf6pMmPepxnvFWyBtjexzgY.jpg  \n",
       "2  /h5BcaDMPRVLHLDzbQavec4xfSdt.jpg  \n",
       "3  /eIo2jVVXYgjDtaHoF19Ll9vtW7h.jpg  \n",
       "4  /oGE6JqPP2xH4tNORKNqxbNPYi7u.jpg  "
      ]
     },
     "execution_count": 50,
     "metadata": {},
     "output_type": "execute_result"
    }
   ],
   "source": [
    "cast_df.head()"
   ]
  },
  {
   "cell_type": "code",
   "execution_count": 51,
   "metadata": {},
   "outputs": [
    {
     "data": {
      "text/html": [
       "<div>\n",
       "<style scoped>\n",
       "    .dataframe tbody tr th:only-of-type {\n",
       "        vertical-align: middle;\n",
       "    }\n",
       "\n",
       "    .dataframe tbody tr th {\n",
       "        vertical-align: top;\n",
       "    }\n",
       "\n",
       "    .dataframe thead th {\n",
       "        text-align: right;\n",
       "    }\n",
       "</style>\n",
       "<table border=\"1\" class=\"dataframe\">\n",
       "  <thead>\n",
       "    <tr style=\"text-align: right;\">\n",
       "      <th></th>\n",
       "      <th>id_miembro</th>\n",
       "      <th>crew_credit_id</th>\n",
       "      <th>crew_department</th>\n",
       "      <th>crew_gender</th>\n",
       "      <th>crew_id</th>\n",
       "      <th>crew_job</th>\n",
       "      <th>crew_name</th>\n",
       "      <th>crew_profile_path</th>\n",
       "    </tr>\n",
       "  </thead>\n",
       "  <tbody>\n",
       "    <tr>\n",
       "      <th>0</th>\n",
       "      <td>862</td>\n",
       "      <td>52fe4284c3a36847f8024f49</td>\n",
       "      <td>Directing</td>\n",
       "      <td>2.0</td>\n",
       "      <td>7879.0</td>\n",
       "      <td>Director</td>\n",
       "      <td>John Lasseter</td>\n",
       "      <td>/7EdqiNbr4FRjIhKHyPPdFfEEEFG.jpg</td>\n",
       "    </tr>\n",
       "    <tr>\n",
       "      <th>1</th>\n",
       "      <td>862</td>\n",
       "      <td>52fe4284c3a36847f8024f4f</td>\n",
       "      <td>Writing</td>\n",
       "      <td>2.0</td>\n",
       "      <td>12891.0</td>\n",
       "      <td>Screenplay</td>\n",
       "      <td>Joss Whedon</td>\n",
       "      <td>/dTiVsuaTVTeGmvkhcyJvKp2A5kr.jpg</td>\n",
       "    </tr>\n",
       "    <tr>\n",
       "      <th>2</th>\n",
       "      <td>862</td>\n",
       "      <td>52fe4284c3a36847f8024f55</td>\n",
       "      <td>Writing</td>\n",
       "      <td>2.0</td>\n",
       "      <td>7.0</td>\n",
       "      <td>Screenplay</td>\n",
       "      <td>Andrew Stanton</td>\n",
       "      <td>/pvQWsu0qc8JFQhMVJkTHuexUAa1.jpg</td>\n",
       "    </tr>\n",
       "    <tr>\n",
       "      <th>3</th>\n",
       "      <td>862</td>\n",
       "      <td>52fe4284c3a36847f8024f5b</td>\n",
       "      <td>Writing</td>\n",
       "      <td>2.0</td>\n",
       "      <td>12892.0</td>\n",
       "      <td>Screenplay</td>\n",
       "      <td>Joel Cohen</td>\n",
       "      <td>/dAubAiZcvKFbboWlj7oXOkZnTSu.jpg</td>\n",
       "    </tr>\n",
       "    <tr>\n",
       "      <th>4</th>\n",
       "      <td>862</td>\n",
       "      <td>52fe4284c3a36847f8024f61</td>\n",
       "      <td>Writing</td>\n",
       "      <td>0.0</td>\n",
       "      <td>12893.0</td>\n",
       "      <td>Screenplay</td>\n",
       "      <td>Alec Sokolow</td>\n",
       "      <td>/v79vlRYi94BZUQnkkyznbGUZLjT.jpg</td>\n",
       "    </tr>\n",
       "  </tbody>\n",
       "</table>\n",
       "</div>"
      ],
      "text/plain": [
       "   id_miembro            crew_credit_id crew_department  crew_gender  crew_id  \\\n",
       "0         862  52fe4284c3a36847f8024f49       Directing          2.0   7879.0   \n",
       "1         862  52fe4284c3a36847f8024f4f         Writing          2.0  12891.0   \n",
       "2         862  52fe4284c3a36847f8024f55         Writing          2.0      7.0   \n",
       "3         862  52fe4284c3a36847f8024f5b         Writing          2.0  12892.0   \n",
       "4         862  52fe4284c3a36847f8024f61         Writing          0.0  12893.0   \n",
       "\n",
       "     crew_job       crew_name                 crew_profile_path  \n",
       "0    Director   John Lasseter  /7EdqiNbr4FRjIhKHyPPdFfEEEFG.jpg  \n",
       "1  Screenplay     Joss Whedon  /dTiVsuaTVTeGmvkhcyJvKp2A5kr.jpg  \n",
       "2  Screenplay  Andrew Stanton  /pvQWsu0qc8JFQhMVJkTHuexUAa1.jpg  \n",
       "3  Screenplay      Joel Cohen  /dAubAiZcvKFbboWlj7oXOkZnTSu.jpg  \n",
       "4  Screenplay    Alec Sokolow  /v79vlRYi94BZUQnkkyznbGUZLjT.jpg  "
      ]
     },
     "execution_count": 51,
     "metadata": {},
     "output_type": "execute_result"
    }
   ],
   "source": [
    "crew_df.head()"
   ]
  },
  {
   "cell_type": "markdown",
   "metadata": {},
   "source": [
    "- *Creacion del df_actor a partir de las columnas id y cast_name del cast_df*\n",
    "- *Se agregan el resto de las columnas del df_movies usando un merge*\n",
    "- El df_actor se usara para las funciones get actor y get director posteriormente"
   ]
  },
  {
   "cell_type": "code",
   "execution_count": 52,
   "metadata": {},
   "outputs": [],
   "source": [
    "df_actor = cast_df[['id', 'cast_name']].copy()\n",
    "df_actor = df_actor.merge(df_movies[['title','id','release_date','budget','revenue', 'return']], on='id', how='left')"
   ]
  },
  {
   "cell_type": "code",
   "execution_count": 53,
   "metadata": {},
   "outputs": [],
   "source": [
    "df_actor.to_csv('dataset_actor.csv', index=False)"
   ]
  },
  {
   "cell_type": "code",
   "execution_count": 54,
   "metadata": {},
   "outputs": [
    {
     "data": {
      "text/html": [
       "<div>\n",
       "<style scoped>\n",
       "    .dataframe tbody tr th:only-of-type {\n",
       "        vertical-align: middle;\n",
       "    }\n",
       "\n",
       "    .dataframe tbody tr th {\n",
       "        vertical-align: top;\n",
       "    }\n",
       "\n",
       "    .dataframe thead th {\n",
       "        text-align: right;\n",
       "    }\n",
       "</style>\n",
       "<table border=\"1\" class=\"dataframe\">\n",
       "  <thead>\n",
       "    <tr style=\"text-align: right;\">\n",
       "      <th></th>\n",
       "      <th>id</th>\n",
       "      <th>cast_name</th>\n",
       "      <th>title</th>\n",
       "      <th>release_date</th>\n",
       "      <th>budget</th>\n",
       "      <th>revenue</th>\n",
       "      <th>return</th>\n",
       "    </tr>\n",
       "  </thead>\n",
       "  <tbody>\n",
       "    <tr>\n",
       "      <th>0</th>\n",
       "      <td>862</td>\n",
       "      <td>Tom Hanks</td>\n",
       "      <td>Toy Story</td>\n",
       "      <td>1995-10-30</td>\n",
       "      <td>30000000.0</td>\n",
       "      <td>373554033.0</td>\n",
       "      <td>12.451801</td>\n",
       "    </tr>\n",
       "    <tr>\n",
       "      <th>1</th>\n",
       "      <td>862</td>\n",
       "      <td>Tim Allen</td>\n",
       "      <td>Toy Story</td>\n",
       "      <td>1995-10-30</td>\n",
       "      <td>30000000.0</td>\n",
       "      <td>373554033.0</td>\n",
       "      <td>12.451801</td>\n",
       "    </tr>\n",
       "    <tr>\n",
       "      <th>2</th>\n",
       "      <td>862</td>\n",
       "      <td>Don Rickles</td>\n",
       "      <td>Toy Story</td>\n",
       "      <td>1995-10-30</td>\n",
       "      <td>30000000.0</td>\n",
       "      <td>373554033.0</td>\n",
       "      <td>12.451801</td>\n",
       "    </tr>\n",
       "    <tr>\n",
       "      <th>3</th>\n",
       "      <td>862</td>\n",
       "      <td>Jim Varney</td>\n",
       "      <td>Toy Story</td>\n",
       "      <td>1995-10-30</td>\n",
       "      <td>30000000.0</td>\n",
       "      <td>373554033.0</td>\n",
       "      <td>12.451801</td>\n",
       "    </tr>\n",
       "    <tr>\n",
       "      <th>4</th>\n",
       "      <td>862</td>\n",
       "      <td>Wallace Shawn</td>\n",
       "      <td>Toy Story</td>\n",
       "      <td>1995-10-30</td>\n",
       "      <td>30000000.0</td>\n",
       "      <td>373554033.0</td>\n",
       "      <td>12.451801</td>\n",
       "    </tr>\n",
       "    <tr>\n",
       "      <th>...</th>\n",
       "      <td>...</td>\n",
       "      <td>...</td>\n",
       "      <td>...</td>\n",
       "      <td>...</td>\n",
       "      <td>...</td>\n",
       "      <td>...</td>\n",
       "      <td>...</td>\n",
       "    </tr>\n",
       "    <tr>\n",
       "      <th>8365</th>\n",
       "      <td>10447</td>\n",
       "      <td>James Costas</td>\n",
       "      <td>No Escape</td>\n",
       "      <td>1994-04-29</td>\n",
       "      <td>20000000.0</td>\n",
       "      <td>15340000.0</td>\n",
       "      <td>0.767000</td>\n",
       "    </tr>\n",
       "    <tr>\n",
       "      <th>8366</th>\n",
       "      <td>10447</td>\n",
       "      <td>Barry Duffield</td>\n",
       "      <td>No Escape</td>\n",
       "      <td>1994-04-29</td>\n",
       "      <td>20000000.0</td>\n",
       "      <td>15340000.0</td>\n",
       "      <td>0.767000</td>\n",
       "    </tr>\n",
       "    <tr>\n",
       "      <th>8367</th>\n",
       "      <td>10447</td>\n",
       "      <td>Xavier Gouault</td>\n",
       "      <td>No Escape</td>\n",
       "      <td>1994-04-29</td>\n",
       "      <td>20000000.0</td>\n",
       "      <td>15340000.0</td>\n",
       "      <td>0.767000</td>\n",
       "    </tr>\n",
       "    <tr>\n",
       "      <th>8368</th>\n",
       "      <td>10447</td>\n",
       "      <td>Axle Gunn</td>\n",
       "      <td>No Escape</td>\n",
       "      <td>1994-04-29</td>\n",
       "      <td>20000000.0</td>\n",
       "      <td>15340000.0</td>\n",
       "      <td>0.767000</td>\n",
       "    </tr>\n",
       "    <tr>\n",
       "      <th>8369</th>\n",
       "      <td>10447</td>\n",
       "      <td>Gordon Waddell</td>\n",
       "      <td>No Escape</td>\n",
       "      <td>1994-04-29</td>\n",
       "      <td>20000000.0</td>\n",
       "      <td>15340000.0</td>\n",
       "      <td>0.767000</td>\n",
       "    </tr>\n",
       "  </tbody>\n",
       "</table>\n",
       "<p>8370 rows × 7 columns</p>\n",
       "</div>"
      ],
      "text/plain": [
       "         id       cast_name      title release_date      budget      revenue  \\\n",
       "0       862       Tom Hanks  Toy Story   1995-10-30  30000000.0  373554033.0   \n",
       "1       862       Tim Allen  Toy Story   1995-10-30  30000000.0  373554033.0   \n",
       "2       862     Don Rickles  Toy Story   1995-10-30  30000000.0  373554033.0   \n",
       "3       862      Jim Varney  Toy Story   1995-10-30  30000000.0  373554033.0   \n",
       "4       862   Wallace Shawn  Toy Story   1995-10-30  30000000.0  373554033.0   \n",
       "...     ...             ...        ...          ...         ...          ...   \n",
       "8365  10447    James Costas  No Escape   1994-04-29  20000000.0   15340000.0   \n",
       "8366  10447  Barry Duffield  No Escape   1994-04-29  20000000.0   15340000.0   \n",
       "8367  10447  Xavier Gouault  No Escape   1994-04-29  20000000.0   15340000.0   \n",
       "8368  10447       Axle Gunn  No Escape   1994-04-29  20000000.0   15340000.0   \n",
       "8369  10447  Gordon Waddell  No Escape   1994-04-29  20000000.0   15340000.0   \n",
       "\n",
       "         return  \n",
       "0     12.451801  \n",
       "1     12.451801  \n",
       "2     12.451801  \n",
       "3     12.451801  \n",
       "4     12.451801  \n",
       "...         ...  \n",
       "8365   0.767000  \n",
       "8366   0.767000  \n",
       "8367   0.767000  \n",
       "8368   0.767000  \n",
       "8369   0.767000  \n",
       "\n",
       "[8370 rows x 7 columns]"
      ]
     },
     "execution_count": 54,
     "metadata": {},
     "output_type": "execute_result"
    }
   ],
   "source": [
    "df_actor"
   ]
  },
  {
   "cell_type": "markdown",
   "metadata": {},
   "source": [
    "- *Creacion del df_director con las columnas id_miembro y crew_name del df_crew_df*\n",
    "- *Se renombran las columnas*"
   ]
  },
  {
   "cell_type": "code",
   "execution_count": 55,
   "metadata": {},
   "outputs": [],
   "source": [
    "df_director = crew_df[crew_df['crew_job'] == 'Director'][['id_miembro', 'crew_name']]\n",
    "df_director = df_director.rename(columns={'id_miembro': 'id', 'crew_name': 'name'})"
   ]
  },
  {
   "cell_type": "code",
   "execution_count": 56,
   "metadata": {},
   "outputs": [],
   "source": [
    "df_director.to_csv('dataset_director.csv', index=False)"
   ]
  },
  {
   "cell_type": "code",
   "execution_count": 57,
   "metadata": {},
   "outputs": [
    {
     "data": {
      "text/html": [
       "<div>\n",
       "<style scoped>\n",
       "    .dataframe tbody tr th:only-of-type {\n",
       "        vertical-align: middle;\n",
       "    }\n",
       "\n",
       "    .dataframe tbody tr th {\n",
       "        vertical-align: top;\n",
       "    }\n",
       "\n",
       "    .dataframe thead th {\n",
       "        text-align: right;\n",
       "    }\n",
       "</style>\n",
       "<table border=\"1\" class=\"dataframe\">\n",
       "  <thead>\n",
       "    <tr style=\"text-align: right;\">\n",
       "      <th></th>\n",
       "      <th>id</th>\n",
       "      <th>name</th>\n",
       "    </tr>\n",
       "  </thead>\n",
       "  <tbody>\n",
       "    <tr>\n",
       "      <th>0</th>\n",
       "      <td>862</td>\n",
       "      <td>John Lasseter</td>\n",
       "    </tr>\n",
       "    <tr>\n",
       "      <th>109</th>\n",
       "      <td>8844</td>\n",
       "      <td>Joe Johnston</td>\n",
       "    </tr>\n",
       "    <tr>\n",
       "      <th>122</th>\n",
       "      <td>15602</td>\n",
       "      <td>Howard Deutch</td>\n",
       "    </tr>\n",
       "    <tr>\n",
       "      <th>126</th>\n",
       "      <td>31357</td>\n",
       "      <td>Forest Whitaker</td>\n",
       "    </tr>\n",
       "    <tr>\n",
       "      <th>141</th>\n",
       "      <td>11862</td>\n",
       "      <td>Charles Shyer</td>\n",
       "    </tr>\n",
       "    <tr>\n",
       "      <th>...</th>\n",
       "      <td>...</td>\n",
       "      <td>...</td>\n",
       "    </tr>\n",
       "    <tr>\n",
       "      <th>8199</th>\n",
       "      <td>788</td>\n",
       "      <td>Chris Columbus</td>\n",
       "    </tr>\n",
       "    <tr>\n",
       "      <th>8223</th>\n",
       "      <td>21450</td>\n",
       "      <td>Mike Leigh</td>\n",
       "    </tr>\n",
       "    <tr>\n",
       "      <th>8226</th>\n",
       "      <td>11231</td>\n",
       "      <td>Christopher Cain</td>\n",
       "    </tr>\n",
       "    <tr>\n",
       "      <th>8234</th>\n",
       "      <td>41588</td>\n",
       "      <td>Michael Tolkin</td>\n",
       "    </tr>\n",
       "    <tr>\n",
       "      <th>8236</th>\n",
       "      <td>10447</td>\n",
       "      <td>Martin Campbell</td>\n",
       "    </tr>\n",
       "  </tbody>\n",
       "</table>\n",
       "<p>519 rows × 2 columns</p>\n",
       "</div>"
      ],
      "text/plain": [
       "         id              name\n",
       "0       862     John Lasseter\n",
       "109    8844      Joe Johnston\n",
       "122   15602     Howard Deutch\n",
       "126   31357   Forest Whitaker\n",
       "141   11862     Charles Shyer\n",
       "...     ...               ...\n",
       "8199    788    Chris Columbus\n",
       "8223  21450        Mike Leigh\n",
       "8226  11231  Christopher Cain\n",
       "8234  41588    Michael Tolkin\n",
       "8236  10447   Martin Campbell\n",
       "\n",
       "[519 rows x 2 columns]"
      ]
     },
     "execution_count": 57,
     "metadata": {},
     "output_type": "execute_result"
    }
   ],
   "source": [
    "df_director"
   ]
  },
  {
   "cell_type": "markdown",
   "metadata": {},
   "source": [
    "- *La funcion get_actor recibe como parametro el nombre del actor*\n",
    "- *Normaliza el nombre del actor a minuscula*\n",
    "- *Si se ingresa un campo vacio devuelve el mensaje de error*\n",
    "- *Filtra df_actor al cual tambien normaliza a minuscula*\n",
    "- *Se filtran las peliculas donde el actor tambien fue director*\n",
    "- *Si el actor ha dirigido una pelicula, envia un mensaje y lo elimina del analisis*\n",
    "- *Se calculan las metricas del total de peliculas, el retorno total y el exito del actor*\n",
    "- *Finalmente se muestra el mensaje*"
   ]
  },
  {
   "cell_type": "code",
   "execution_count": 58,
   "metadata": {},
   "outputs": [],
   "source": [
    "def get_actor(nombre_actor):\n",
    "    nombre_actor = nombre_actor.lower()\n",
    "    if not df_actor['cast_name'].str.lower().isin([nombre_actor]).any():\n",
    "        return f\"Error: El actor '{nombre_actor}' no se encuentra en la base de datos.\"\n",
    "\n",
    "    actor = df_actor[df_actor['cast_name'].str.lower() == nombre_actor]\n",
    "    director = df_director[df_director['name'] == nombre_actor]\n",
    "    if not director.empty:\n",
    "        return f\"Error: El actor '{nombre_actor}' también es director en algunas películas. No se incluirán en el análisis.\"\n",
    "\n",
    "    total_peliculas = len(actor)\n",
    "    total_retorno = actor['return'].sum()\n",
    "    exito= total_retorno / total_peliculas if total_peliculas > 0 else 0\n",
    "    \n",
    "    return f\"El actor {nombre_actor} ha participado en {total_peliculas} filmaciones, logrando un retorno total de {total_retorno:.2f} con un promedio de {exito:.2f} por filmación.\"\n"
   ]
  },
  {
   "cell_type": "code",
   "execution_count": 59,
   "metadata": {},
   "outputs": [
    {
     "name": "stdout",
     "output_type": "stream",
     "text": [
      "El actor tom hanks ha participado en 3 filmaciones, logrando un retorno total de 31.61 con un promedio de 10.54 por filmación.\n"
     ]
    }
   ],
   "source": [
    "actor=input('ingrese el nombre del actor: ')\n",
    "resultado = get_actor(actor)\n",
    "print(resultado)"
   ]
  },
  {
   "cell_type": "markdown",
   "metadata": {},
   "source": [
    "- *La funcion get_director recibe como parametro el nombre del director*\n",
    "- *Normaliza el nombre del director a minuscula*\n",
    "- *Filtra df_director al cual tambien normaliza a minuscula*\n",
    "- *Si se ingresa un campo vacio devuelve el mensaje de error*\n",
    "- *(se coloca la primera letra del nombre_director en mayuscula para fines esteticos)*\n",
    "- *En la variable pelicula_id se gurada el id de las pelicula del director en formato lista*\n",
    "- *En la variable pelicula se utiliza el id de pelicula id para filtrar el df_actor en las columnas id,title, budget,revenue,retur y se eliminan los id duplicados.*\n",
    "- *En el caso de que la variable pelicula se encuetre vacia, es decir,no se encotraron peliculas de ese director se arroja un mensaje.*\n",
    "- *Se crea la variable exito y se calcula sumando el retorno de cada pelicula.*\n",
    "- *Se crea un mensaje de salida y por ultimo  se itera cada pelicula del director para devolver los detalles.*"
   ]
  },
  {
   "cell_type": "code",
   "execution_count": 60,
   "metadata": {},
   "outputs": [],
   "source": [
    "def get_director(nombre_director):\n",
    "    \n",
    "    nombre_director = nombre_director.lower()\n",
    "    director= df_director[df_director['name'].str.lower() == nombre_director]\n",
    "    \n",
    "    if director.empty:\n",
    "        return f\"Error: El director '{nombre_director.title()}' no se encuentra en la base de datos.\"\n",
    "    \n",
    "    pelicula_id = director['id'].tolist()\n",
    "    peliculas = df_actor[df_actor['id'].isin(pelicula_id)][['id', 'title', 'release_date', 'budget', 'revenue', 'return']].drop_duplicates(subset=['id'])\n",
    "    if peliculas.empty:\n",
    "        return f\"Error: No se encontraron películas dirigidas por '{nombre_director.title()}'.\"\n",
    "    exito= peliculas['return'].sum()\n",
    "    cant_peliculas = len(peliculas)\n",
    "\n",
    "    mensaje = f\" El director {nombre_director.title()} ha dirigido {cant_peliculas} películas, con un exito de {exito:.2f}.\\n\\n\"\n",
    "    mensaje += \" **Listado de películas:**\\n\"\n",
    "\n",
    "    for _, row in peliculas.iterrows():\n",
    "        mensaje += (f\"- {row['title']} (estrenada en: {row['release_date'].strftime('%Y-%m-%d')}): \"\n",
    "                    f\"Retorno: {row['return']:.2f}, Costo: {row['budget']}, Ganancia: {row['revenue']}\\n\")\n",
    "\n",
    "    return mensaje\n"
   ]
  },
  {
   "cell_type": "code",
   "execution_count": 61,
   "metadata": {},
   "outputs": [
    {
     "name": "stdout",
     "output_type": "stream",
     "text": [
      "Error: El director 'Gl' no se encuentra en la base de datos.\n"
     ]
    }
   ],
   "source": [
    "director=input('ingrese el nombre del director: ')\n",
    "dir= get_director(director)\n",
    "print(dir)"
   ]
  },
  {
   "cell_type": "markdown",
   "metadata": {},
   "source": [
    "- *Creacion del df_recomendacion*"
   ]
  },
  {
   "cell_type": "code",
   "execution_count": 62,
   "metadata": {},
   "outputs": [],
   "source": [
    "df_recomendacion= df_movies[['title', 'popularity']]"
   ]
  },
  {
   "cell_type": "markdown",
   "metadata": {},
   "source": [
    "-*se crea una nube depalabraspara obsevar la correlacion entre los titulos de la pelicula*"
   ]
  },
  {
   "cell_type": "code",
   "execution_count": 66,
   "metadata": {},
   "outputs": [
    {
     "data": {
      "image/png": "[encoded data removed]",
      "text/plain": [
       "<Figure size 1000x500 with 1 Axes>"
      ]
     },
     "metadata": {},
     "output_type": "display_data"
    }
   ],
   "source": [
    "# Generar la nube de palabras con los títulos de df_recomendacion\n",
    "text = \" \".join(df_recomendacion['title'].fillna('').tolist())\n",
    "wordcloud = WordCloud(width=800, height=400, background_color=\"white\").generate(text)\n",
    "\n",
    "plt.figure(figsize=(10, 5))\n",
    "plt.imshow(wordcloud, interpolation=\"bilinear\")\n",
    "plt.axis(\"off\")\n",
    "plt.title(\"Nube de Palabras de Títulos de Películas\")\n",
    "plt.show()"
   ]
  },
  {
   "cell_type": "code",
   "execution_count": null,
   "metadata": {},
   "outputs": [
    {
     "data": {
      "text/html": [
       "<div>\n",
       "<style scoped>\n",
       "    .dataframe tbody tr th:only-of-type {\n",
       "        vertical-align: middle;\n",
       "    }\n",
       "\n",
       "    .dataframe tbody tr th {\n",
       "        vertical-align: top;\n",
       "    }\n",
       "\n",
       "    .dataframe thead th {\n",
       "        text-align: right;\n",
       "    }\n",
       "</style>\n",
       "<table border=\"1\" class=\"dataframe\">\n",
       "  <thead>\n",
       "    <tr style=\"text-align: right;\">\n",
       "      <th></th>\n",
       "      <th>title</th>\n",
       "      <th>popularity</th>\n",
       "    </tr>\n",
       "  </thead>\n",
       "  <tbody>\n",
       "    <tr>\n",
       "      <th>0</th>\n",
       "      <td>Toy Story</td>\n",
       "      <td>21.946943</td>\n",
       "    </tr>\n",
       "    <tr>\n",
       "      <th>1</th>\n",
       "      <td>Jumanji</td>\n",
       "      <td>17.015539</td>\n",
       "    </tr>\n",
       "    <tr>\n",
       "      <th>2</th>\n",
       "      <td>Grumpier Old Men</td>\n",
       "      <td>11.712900</td>\n",
       "    </tr>\n",
       "    <tr>\n",
       "      <th>3</th>\n",
       "      <td>Waiting to Exhale</td>\n",
       "      <td>3.859495</td>\n",
       "    </tr>\n",
       "    <tr>\n",
       "      <th>5</th>\n",
       "      <td>Heat</td>\n",
       "      <td>17.924927</td>\n",
       "    </tr>\n",
       "    <tr>\n",
       "      <th>...</th>\n",
       "      <td>...</td>\n",
       "      <td>...</td>\n",
       "    </tr>\n",
       "    <tr>\n",
       "      <th>495</th>\n",
       "      <td>Mrs. Doubtfire</td>\n",
       "      <td>11.165530</td>\n",
       "    </tr>\n",
       "    <tr>\n",
       "      <th>496</th>\n",
       "      <td>Naked</td>\n",
       "      <td>8.665198</td>\n",
       "    </tr>\n",
       "    <tr>\n",
       "      <th>497</th>\n",
       "      <td>The Next Karate Kid</td>\n",
       "      <td>9.969700</td>\n",
       "    </tr>\n",
       "    <tr>\n",
       "      <th>498</th>\n",
       "      <td>The New Age</td>\n",
       "      <td>0.596207</td>\n",
       "    </tr>\n",
       "    <tr>\n",
       "      <th>499</th>\n",
       "      <td>No Escape</td>\n",
       "      <td>9.715187</td>\n",
       "    </tr>\n",
       "  </tbody>\n",
       "</table>\n",
       "<p>496 rows × 2 columns</p>\n",
       "</div>"
      ],
      "text/plain": [
       "                   title  popularity\n",
       "0              Toy Story   21.946943\n",
       "1                Jumanji   17.015539\n",
       "2       Grumpier Old Men   11.712900\n",
       "3      Waiting to Exhale    3.859495\n",
       "5                   Heat   17.924927\n",
       "..                   ...         ...\n",
       "495       Mrs. Doubtfire   11.165530\n",
       "496                Naked    8.665198\n",
       "497  The Next Karate Kid    9.969700\n",
       "498          The New Age    0.596207\n",
       "499            No Escape    9.715187\n",
       "\n",
       "[496 rows x 2 columns]"
      ]
     },
     "execution_count": 365,
     "metadata": {},
     "output_type": "execute_result"
    }
   ],
   "source": [
    "df_recomendacion"
   ]
  },
  {
   "cell_type": "markdown",
   "metadata": {},
   "source": [
    "### *Sistema de recomendacion* ###\n",
    "\n",
    "-*Preparacion de los datos*"
   ]
  },
  {
   "cell_type": "markdown",
   "metadata": {},
   "source": [
    "- *Se crea el df_recomendacion para el sistema de recomendacion*"
   ]
  },
  {
   "cell_type": "code",
   "execution_count": 387,
   "metadata": {},
   "outputs": [],
   "source": [
    "df_recomendacion= df_movies[['title', 'popularity']]"
   ]
  },
  {
   "cell_type": "markdown",
   "metadata": {},
   "source": [
    "- *Se utilizan las columnas titulo y popularidad*\n",
    "- *Se corroboran los valores nulos y si los hay se sustituyen por ' y 0 respectivamente*"
   ]
  },
  {
   "cell_type": "code",
   "execution_count": 388,
   "metadata": {},
   "outputs": [],
   "source": [
    "df_recomendacion['title'] = df_recomendacion['title'].fillna('')\n",
    "df_recomendacion['popularity'] = df_recomendacion['popularity'].fillna(0)"
   ]
  },
  {
   "cell_type": "markdown",
   "metadata": {},
   "source": [
    "*Normalizacion de popularidad para poder combinar las similitudes*"
   ]
  },
  {
   "cell_type": "code",
   "execution_count": 389,
   "metadata": {},
   "outputs": [],
   "source": [
    "df_recomendacion['popularidad'] = (\n",
    "    df_recomendacion['popularity'] - df_recomendacion['popularity'].min()\n",
    ") / (df_recomendacion['popularity'].max() - df_recomendacion['popularity'].min())"
   ]
  },
  {
   "cell_type": "markdown",
   "metadata": {},
   "source": [
    "*Se convierte a minuscula los titulos del dataset*"
   ]
  },
  {
   "cell_type": "code",
   "execution_count": 390,
   "metadata": {},
   "outputs": [],
   "source": [
    "df_recomendacion['titulos'] = df_recomendacion['title'].str.lower()\n"
   ]
  },
  {
   "cell_type": "code",
   "execution_count": 391,
   "metadata": {},
   "outputs": [],
   "source": [
    "df_recomendacion = df_recomendacion.drop(['title', 'popularity'], axis=1)"
   ]
  },
  {
   "cell_type": "code",
   "execution_count": 392,
   "metadata": {},
   "outputs": [
    {
     "data": {
      "text/html": [
       "<div>\n",
       "<style scoped>\n",
       "    .dataframe tbody tr th:only-of-type {\n",
       "        vertical-align: middle;\n",
       "    }\n",
       "\n",
       "    .dataframe tbody tr th {\n",
       "        vertical-align: top;\n",
       "    }\n",
       "\n",
       "    .dataframe thead th {\n",
       "        text-align: right;\n",
       "    }\n",
       "</style>\n",
       "<table border=\"1\" class=\"dataframe\">\n",
       "  <thead>\n",
       "    <tr style=\"text-align: right;\">\n",
       "      <th></th>\n",
       "      <th>popularidad</th>\n",
       "      <th>titulos</th>\n",
       "    </tr>\n",
       "  </thead>\n",
       "  <tbody>\n",
       "    <tr>\n",
       "      <th>0</th>\n",
       "      <td>0.155700</td>\n",
       "      <td>toy story</td>\n",
       "    </tr>\n",
       "    <tr>\n",
       "      <th>1</th>\n",
       "      <td>0.120713</td>\n",
       "      <td>jumanji</td>\n",
       "    </tr>\n",
       "    <tr>\n",
       "      <th>2</th>\n",
       "      <td>0.083092</td>\n",
       "      <td>grumpier old men</td>\n",
       "    </tr>\n",
       "    <tr>\n",
       "      <th>3</th>\n",
       "      <td>0.027374</td>\n",
       "      <td>waiting to exhale</td>\n",
       "    </tr>\n",
       "    <tr>\n",
       "      <th>5</th>\n",
       "      <td>0.127165</td>\n",
       "      <td>heat</td>\n",
       "    </tr>\n",
       "    <tr>\n",
       "      <th>...</th>\n",
       "      <td>...</td>\n",
       "      <td>...</td>\n",
       "    </tr>\n",
       "    <tr>\n",
       "      <th>495</th>\n",
       "      <td>0.079208</td>\n",
       "      <td>mrs. doubtfire</td>\n",
       "    </tr>\n",
       "    <tr>\n",
       "      <th>496</th>\n",
       "      <td>0.061469</td>\n",
       "      <td>naked</td>\n",
       "    </tr>\n",
       "    <tr>\n",
       "      <th>497</th>\n",
       "      <td>0.070724</td>\n",
       "      <td>the next karate kid</td>\n",
       "    </tr>\n",
       "    <tr>\n",
       "      <th>498</th>\n",
       "      <td>0.004222</td>\n",
       "      <td>the new age</td>\n",
       "    </tr>\n",
       "    <tr>\n",
       "      <th>499</th>\n",
       "      <td>0.068919</td>\n",
       "      <td>no escape</td>\n",
       "    </tr>\n",
       "  </tbody>\n",
       "</table>\n",
       "<p>496 rows × 2 columns</p>\n",
       "</div>"
      ],
      "text/plain": [
       "     popularidad              titulos\n",
       "0       0.155700            toy story\n",
       "1       0.120713              jumanji\n",
       "2       0.083092     grumpier old men\n",
       "3       0.027374    waiting to exhale\n",
       "5       0.127165                 heat\n",
       "..           ...                  ...\n",
       "495     0.079208       mrs. doubtfire\n",
       "496     0.061469                naked\n",
       "497     0.070724  the next karate kid\n",
       "498     0.004222          the new age\n",
       "499     0.068919            no escape\n",
       "\n",
       "[496 rows x 2 columns]"
      ]
     },
     "execution_count": 392,
     "metadata": {},
     "output_type": "execute_result"
    }
   ],
   "source": [
    "df_recomendacion"
   ]
  },
  {
   "cell_type": "markdown",
   "metadata": {},
   "source": [
    "*Importacion del df_recomendacion en formato csv bajo el nombre de dataset_recomendacion.csv'*"
   ]
  },
  {
   "cell_type": "code",
   "execution_count": 399,
   "metadata": {},
   "outputs": [],
   "source": [
    "df_recomendacion.to_csv('dataset_recomendacion.csv', index=False)"
   ]
  },
  {
   "cell_type": "markdown",
   "metadata": {},
   "source": [
    "- *Se crea un vectorizador TF-IDF para calcular la  similitud de los titulos*"
   ]
  },
  {
   "cell_type": "code",
   "execution_count": 393,
   "metadata": {},
   "outputs": [],
   "source": [
    "vec_tfidf = TfidfVectorizer(stop_words='english')\n",
    "matriz_tfidf = vec_tfidf.fit_transform(df_recomendacion['titulos'])"
   ]
  },
  {
   "cell_type": "markdown",
   "metadata": {},
   "source": [
    "- *Se calcula la matriz de la similitud del coseno para los titulos*"
   ]
  },
  {
   "cell_type": "code",
   "execution_count": 357,
   "metadata": {},
   "outputs": [],
   "source": [
    "similitud_coseno = cosine_similarity(matriz_tfidf, matriz_tfidf)"
   ]
  },
  {
   "cell_type": "markdown",
   "metadata": {},
   "source": [
    "- *Se crea una serie para mapear títulos a índices, si hay duplicados se eliminan*"
   ]
  },
  {
   "cell_type": "code",
   "execution_count": 394,
   "metadata": {},
   "outputs": [],
   "source": [
    "indices = pd.Series(df_recomendacion.index, index=df_recomendacion['titulos']).drop_duplicates()"
   ]
  },
  {
   "cell_type": "markdown",
   "metadata": {},
   "source": [
    "- *Funcion de recomendacion*\n",
    "- *Convierte el titulo pasado como parametro en minuscula*\n",
    "- *Si el titulo no existe en los datos retorna un mensaje de error*\n",
    "- *Se obtiene el indice de la pelicula*\n",
    "- *Se crea la variable sim_score y en ella se alojan las similitudes entre los titulos en formato lista*\n",
    "- *Se ordenan 10 películas por su puntuación de similitud de títulos excluyendo la pelicula original*\n",
    "- *Se crea una métrica combinada basada en popularidad y similitudy se ordenan*\n",
    "- *Se extraen los titulos de las peliculas recomendadas*\n",
    "- *Finalemte retorna las recomendaciones*"
   ]
  },
  {
   "cell_type": "code",
   "execution_count": 400,
   "metadata": {},
   "outputs": [],
   "source": [
    "def recomendacion(titulo: str):\n",
    "    \"\"\"\n",
    "    Recibe el título de una película y devuelve una lista de 5 películas similares.\n",
    "    \"\"\"\n",
    "    titulo = titulo.lower()\n",
    "    if titulo not in indices:\n",
    "        return {\"error\": \"El título ingresado no se encuentra en la base de datos.\"}\n",
    "\n",
    "    idx = indices[titulo]\n",
    "    # Calcula las similitudes de los títulos\n",
    "    sim_scores = list(enumerate(similitud_coseno[idx]))\n",
    "    \n",
    "    # Ordenar las películas por su puntuación de similitud de títulos\n",
    "    sim_scores = sorted(sim_scores, key=lambda x: x[1], reverse=True)\n",
    "    # Excluir la película original y limitar a las 10 más similares\n",
    "    sim_scores = sim_scores[1:11]\n",
    "    \n",
    "    # Crear una métrica combinada basada en popularidad y similitud\n",
    "    recomendaciones = []\n",
    "    for i, sim in sim_scores:\n",
    "        score = sim * 0.7 + df_recomendacion.iloc[i]['popularidad'] * 0.3\n",
    "        recomendaciones.append((df_recomendacion.iloc[i]['titulos'], score))\n",
    "    \n",
    "    recomendaciones = sorted(recomendaciones, key=lambda x: x[1], reverse=True)[:5]\n",
    "    \n",
    "    # Extraer los títulos de las películas recomendadas\n",
    "    recomendacion_titulos = [r[0] for r in recomendaciones]\n",
    "    \n",
    "    return {\"recomendaciones\": recomendacion_titulos}\n",
    "\n"
   ]
  },
  {
   "cell_type": "code",
   "execution_count": null,
   "metadata": {},
   "outputs": [
    {
     "name": "stdout",
     "output_type": "stream",
     "text": [
      "{'recomendaciones': [\"a pyromaniac's love story\", 'the neverending story iii: escape from fantasia', 'heat', 'jumanji', 'goldeneye']}\n"
     ]
    }
   ],
   "source": [
    "recomendada = input(\"Ingresa el título de una filmación: \")\n",
    "resultado = recomendacion(titulo)\n",
    "print(resultado)"
   ]
  }
 ],
 "metadata": {
  "kernelspec": {
   "display_name": "venv",
   "language": "python",
   "name": "python3"
  },
  "language_info": {
   "codemirror_mode": {
    "name": "ipython",
    "version": 3
   },
   "file_extension": ".py",
   "mimetype": "text/x-python",
   "name": "python",
   "nbconvert_exporter": "python",
   "pygments_lexer": "ipython3",
   "version": "3.11.0"
  }
 },
 "nbformat": 4,
 "nbformat_minor": 2
}
